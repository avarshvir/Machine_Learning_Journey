{
 "cells": [
  {
   "cell_type": "code",
   "execution_count": 1,
   "id": "6343c25a-1819-4191-b4c3-a82b71f7fc66",
   "metadata": {},
   "outputs": [],
   "source": [
    "import pandas as pd"
   ]
  },
  {
   "cell_type": "code",
   "execution_count": 2,
   "id": "f340a4e2-075a-4f19-9b1a-ad0997befc0e",
   "metadata": {},
   "outputs": [
    {
     "data": {
      "text/html": [
       "<div>\n",
       "<style scoped>\n",
       "    .dataframe tbody tr th:only-of-type {\n",
       "        vertical-align: middle;\n",
       "    }\n",
       "\n",
       "    .dataframe tbody tr th {\n",
       "        vertical-align: top;\n",
       "    }\n",
       "\n",
       "    .dataframe thead th {\n",
       "        text-align: right;\n",
       "    }\n",
       "</style>\n",
       "<table border=\"1\" class=\"dataframe\">\n",
       "  <thead>\n",
       "    <tr style=\"text-align: right;\">\n",
       "      <th></th>\n",
       "      <th>Age</th>\n",
       "      <th>EstimatedSalary</th>\n",
       "      <th>Purchased</th>\n",
       "    </tr>\n",
       "  </thead>\n",
       "  <tbody>\n",
       "    <tr>\n",
       "      <th>0</th>\n",
       "      <td>19</td>\n",
       "      <td>19000</td>\n",
       "      <td>0</td>\n",
       "    </tr>\n",
       "    <tr>\n",
       "      <th>1</th>\n",
       "      <td>35</td>\n",
       "      <td>20000</td>\n",
       "      <td>0</td>\n",
       "    </tr>\n",
       "    <tr>\n",
       "      <th>2</th>\n",
       "      <td>26</td>\n",
       "      <td>43000</td>\n",
       "      <td>0</td>\n",
       "    </tr>\n",
       "    <tr>\n",
       "      <th>3</th>\n",
       "      <td>27</td>\n",
       "      <td>57000</td>\n",
       "      <td>0</td>\n",
       "    </tr>\n",
       "    <tr>\n",
       "      <th>4</th>\n",
       "      <td>19</td>\n",
       "      <td>76000</td>\n",
       "      <td>0</td>\n",
       "    </tr>\n",
       "    <tr>\n",
       "      <th>...</th>\n",
       "      <td>...</td>\n",
       "      <td>...</td>\n",
       "      <td>...</td>\n",
       "    </tr>\n",
       "    <tr>\n",
       "      <th>395</th>\n",
       "      <td>46</td>\n",
       "      <td>41000</td>\n",
       "      <td>1</td>\n",
       "    </tr>\n",
       "    <tr>\n",
       "      <th>396</th>\n",
       "      <td>51</td>\n",
       "      <td>23000</td>\n",
       "      <td>1</td>\n",
       "    </tr>\n",
       "    <tr>\n",
       "      <th>397</th>\n",
       "      <td>50</td>\n",
       "      <td>20000</td>\n",
       "      <td>1</td>\n",
       "    </tr>\n",
       "    <tr>\n",
       "      <th>398</th>\n",
       "      <td>36</td>\n",
       "      <td>33000</td>\n",
       "      <td>0</td>\n",
       "    </tr>\n",
       "    <tr>\n",
       "      <th>399</th>\n",
       "      <td>49</td>\n",
       "      <td>36000</td>\n",
       "      <td>1</td>\n",
       "    </tr>\n",
       "  </tbody>\n",
       "</table>\n",
       "<p>400 rows × 3 columns</p>\n",
       "</div>"
      ],
      "text/plain": [
       "     Age  EstimatedSalary  Purchased\n",
       "0     19            19000          0\n",
       "1     35            20000          0\n",
       "2     26            43000          0\n",
       "3     27            57000          0\n",
       "4     19            76000          0\n",
       "..   ...              ...        ...\n",
       "395   46            41000          1\n",
       "396   51            23000          1\n",
       "397   50            20000          1\n",
       "398   36            33000          0\n",
       "399   49            36000          1\n",
       "\n",
       "[400 rows x 3 columns]"
      ]
     },
     "execution_count": 2,
     "metadata": {},
     "output_type": "execute_result"
    }
   ],
   "source": [
    "data = pd.read_csv(\"E:\\Machine_Learning_Journey\\Machine_Learning_Journey\\data_sets\\social_ads.csv\")\n",
    "data"
   ]
  },
  {
   "cell_type": "code",
   "execution_count": 10,
   "id": "25236497-cca8-479c-a1fc-69c681f4b2c6",
   "metadata": {},
   "outputs": [
    {
     "data": {
      "text/html": [
       "<div>\n",
       "<style scoped>\n",
       "    .dataframe tbody tr th:only-of-type {\n",
       "        vertical-align: middle;\n",
       "    }\n",
       "\n",
       "    .dataframe tbody tr th {\n",
       "        vertical-align: top;\n",
       "    }\n",
       "\n",
       "    .dataframe thead th {\n",
       "        text-align: right;\n",
       "    }\n",
       "</style>\n",
       "<table border=\"1\" class=\"dataframe\">\n",
       "  <thead>\n",
       "    <tr style=\"text-align: right;\">\n",
       "      <th></th>\n",
       "      <th>Age</th>\n",
       "      <th>EstimatedSalary</th>\n",
       "    </tr>\n",
       "  </thead>\n",
       "  <tbody>\n",
       "    <tr>\n",
       "      <th>0</th>\n",
       "      <td>19</td>\n",
       "      <td>19000</td>\n",
       "    </tr>\n",
       "    <tr>\n",
       "      <th>1</th>\n",
       "      <td>35</td>\n",
       "      <td>20000</td>\n",
       "    </tr>\n",
       "    <tr>\n",
       "      <th>2</th>\n",
       "      <td>26</td>\n",
       "      <td>43000</td>\n",
       "    </tr>\n",
       "    <tr>\n",
       "      <th>3</th>\n",
       "      <td>27</td>\n",
       "      <td>57000</td>\n",
       "    </tr>\n",
       "    <tr>\n",
       "      <th>4</th>\n",
       "      <td>19</td>\n",
       "      <td>76000</td>\n",
       "    </tr>\n",
       "    <tr>\n",
       "      <th>...</th>\n",
       "      <td>...</td>\n",
       "      <td>...</td>\n",
       "    </tr>\n",
       "    <tr>\n",
       "      <th>395</th>\n",
       "      <td>46</td>\n",
       "      <td>41000</td>\n",
       "    </tr>\n",
       "    <tr>\n",
       "      <th>396</th>\n",
       "      <td>51</td>\n",
       "      <td>23000</td>\n",
       "    </tr>\n",
       "    <tr>\n",
       "      <th>397</th>\n",
       "      <td>50</td>\n",
       "      <td>20000</td>\n",
       "    </tr>\n",
       "    <tr>\n",
       "      <th>398</th>\n",
       "      <td>36</td>\n",
       "      <td>33000</td>\n",
       "    </tr>\n",
       "    <tr>\n",
       "      <th>399</th>\n",
       "      <td>49</td>\n",
       "      <td>36000</td>\n",
       "    </tr>\n",
       "  </tbody>\n",
       "</table>\n",
       "<p>400 rows × 2 columns</p>\n",
       "</div>"
      ],
      "text/plain": [
       "     Age  EstimatedSalary\n",
       "0     19            19000\n",
       "1     35            20000\n",
       "2     26            43000\n",
       "3     27            57000\n",
       "4     19            76000\n",
       "..   ...              ...\n",
       "395   46            41000\n",
       "396   51            23000\n",
       "397   50            20000\n",
       "398   36            33000\n",
       "399   49            36000\n",
       "\n",
       "[400 rows x 2 columns]"
      ]
     },
     "execution_count": 10,
     "metadata": {},
     "output_type": "execute_result"
    }
   ],
   "source": [
    "X = data.drop(columns = ['Purchased'])\n",
    "X"
   ]
  },
  {
   "cell_type": "code",
   "execution_count": 11,
   "id": "9d2ac238-028d-445a-8976-c6831bc153c3",
   "metadata": {},
   "outputs": [
    {
     "data": {
      "text/plain": [
       "0      0\n",
       "1      0\n",
       "2      0\n",
       "3      0\n",
       "4      0\n",
       "      ..\n",
       "395    1\n",
       "396    1\n",
       "397    1\n",
       "398    0\n",
       "399    1\n",
       "Name: Purchased, Length: 400, dtype: int64"
      ]
     },
     "execution_count": 11,
     "metadata": {},
     "output_type": "execute_result"
    }
   ],
   "source": [
    "y = data['Purchased']\n",
    "y"
   ]
  },
  {
   "cell_type": "code",
   "execution_count": 12,
   "id": "1f28e2bf-b332-4e3f-be82-bf0959328852",
   "metadata": {},
   "outputs": [
    {
     "data": {
      "text/plain": [
       "((400, 2), (400,))"
      ]
     },
     "execution_count": 12,
     "metadata": {},
     "output_type": "execute_result"
    }
   ],
   "source": [
    "X.shape,y.shape"
   ]
  },
  {
   "cell_type": "code",
   "execution_count": 13,
   "id": "4b17305b-60b4-423a-afc8-f4640aa10648",
   "metadata": {},
   "outputs": [],
   "source": [
    "from sklearn.model_selection import train_test_split as tts"
   ]
  },
  {
   "cell_type": "code",
   "execution_count": 14,
   "id": "93da2bd8-d5d2-4f82-bb62-43621114e578",
   "metadata": {},
   "outputs": [
    {
     "data": {
      "text/plain": [
       "((300, 2), (100, 2), (300,), (100,))"
      ]
     },
     "execution_count": 14,
     "metadata": {},
     "output_type": "execute_result"
    }
   ],
   "source": [
    "X_train,X_test,y_train,y_test = tts(X,y,train_size = 0.75, random_state = 2529)\n",
    "X_train.shape,X_test.shape,y_train.shape,y_test.shape"
   ]
  },
  {
   "cell_type": "code",
   "execution_count": 15,
   "id": "145bd04f-cff1-4804-9edc-0807e14ec276",
   "metadata": {},
   "outputs": [],
   "source": [
    "from sklearn.preprocessing import StandardScaler"
   ]
  },
  {
   "cell_type": "code",
   "execution_count": 16,
   "id": "21075b7f-acde-4c6d-858a-fdbc6d8bea1e",
   "metadata": {},
   "outputs": [],
   "source": [
    "sc = StandardScaler()"
   ]
  },
  {
   "cell_type": "code",
   "execution_count": 17,
   "id": "c0872f20-07db-40c6-a067-00a9794958f4",
   "metadata": {},
   "outputs": [],
   "source": [
    "dtemp = sc.fit_transform(data)"
   ]
  },
  {
   "cell_type": "code",
   "execution_count": 21,
   "id": "de4daac6-ef32-4b15-928e-15642ee4e300",
   "metadata": {},
   "outputs": [
    {
     "data": {
      "text/plain": [
       "numpy.ndarray"
      ]
     },
     "execution_count": 21,
     "metadata": {},
     "output_type": "execute_result"
    }
   ],
   "source": [
    "type(dtemp)"
   ]
  },
  {
   "cell_type": "code",
   "execution_count": 22,
   "id": "424ec8d4-4cba-4fb2-9cc4-c43cb388075c",
   "metadata": {},
   "outputs": [],
   "source": [
    "import numpy as np\n",
    "import matplotlib.pyplot as plt"
   ]
  },
  {
   "cell_type": "code",
   "execution_count": 23,
   "id": "68dbcb71-1a03-4e8f-88ae-d0dff85c95a2",
   "metadata": {},
   "outputs": [
    {
     "data": {
      "text/html": [
       "<div>\n",
       "<style scoped>\n",
       "    .dataframe tbody tr th:only-of-type {\n",
       "        vertical-align: middle;\n",
       "    }\n",
       "\n",
       "    .dataframe tbody tr th {\n",
       "        vertical-align: top;\n",
       "    }\n",
       "\n",
       "    .dataframe thead th {\n",
       "        text-align: right;\n",
       "    }\n",
       "</style>\n",
       "<table border=\"1\" class=\"dataframe\">\n",
       "  <thead>\n",
       "    <tr style=\"text-align: right;\">\n",
       "      <th></th>\n",
       "      <th>0</th>\n",
       "      <th>1</th>\n",
       "      <th>2</th>\n",
       "    </tr>\n",
       "  </thead>\n",
       "  <tbody>\n",
       "    <tr>\n",
       "      <th>0</th>\n",
       "      <td>-1.781797</td>\n",
       "      <td>-1.490046</td>\n",
       "      <td>-0.745936</td>\n",
       "    </tr>\n",
       "    <tr>\n",
       "      <th>1</th>\n",
       "      <td>-0.253587</td>\n",
       "      <td>-1.460681</td>\n",
       "      <td>-0.745936</td>\n",
       "    </tr>\n",
       "    <tr>\n",
       "      <th>2</th>\n",
       "      <td>-1.113206</td>\n",
       "      <td>-0.785290</td>\n",
       "      <td>-0.745936</td>\n",
       "    </tr>\n",
       "    <tr>\n",
       "      <th>3</th>\n",
       "      <td>-1.017692</td>\n",
       "      <td>-0.374182</td>\n",
       "      <td>-0.745936</td>\n",
       "    </tr>\n",
       "    <tr>\n",
       "      <th>4</th>\n",
       "      <td>-1.781797</td>\n",
       "      <td>0.183751</td>\n",
       "      <td>-0.745936</td>\n",
       "    </tr>\n",
       "    <tr>\n",
       "      <th>...</th>\n",
       "      <td>...</td>\n",
       "      <td>...</td>\n",
       "      <td>...</td>\n",
       "    </tr>\n",
       "    <tr>\n",
       "      <th>395</th>\n",
       "      <td>0.797057</td>\n",
       "      <td>-0.844019</td>\n",
       "      <td>1.340598</td>\n",
       "    </tr>\n",
       "    <tr>\n",
       "      <th>396</th>\n",
       "      <td>1.274623</td>\n",
       "      <td>-1.372587</td>\n",
       "      <td>1.340598</td>\n",
       "    </tr>\n",
       "    <tr>\n",
       "      <th>397</th>\n",
       "      <td>1.179110</td>\n",
       "      <td>-1.460681</td>\n",
       "      <td>1.340598</td>\n",
       "    </tr>\n",
       "    <tr>\n",
       "      <th>398</th>\n",
       "      <td>-0.158074</td>\n",
       "      <td>-1.078938</td>\n",
       "      <td>-0.745936</td>\n",
       "    </tr>\n",
       "    <tr>\n",
       "      <th>399</th>\n",
       "      <td>1.083596</td>\n",
       "      <td>-0.990844</td>\n",
       "      <td>1.340598</td>\n",
       "    </tr>\n",
       "  </tbody>\n",
       "</table>\n",
       "<p>400 rows × 3 columns</p>\n",
       "</div>"
      ],
      "text/plain": [
       "            0         1         2\n",
       "0   -1.781797 -1.490046 -0.745936\n",
       "1   -0.253587 -1.460681 -0.745936\n",
       "2   -1.113206 -0.785290 -0.745936\n",
       "3   -1.017692 -0.374182 -0.745936\n",
       "4   -1.781797  0.183751 -0.745936\n",
       "..        ...       ...       ...\n",
       "395  0.797057 -0.844019  1.340598\n",
       "396  1.274623 -1.372587  1.340598\n",
       "397  1.179110 -1.460681  1.340598\n",
       "398 -0.158074 -1.078938 -0.745936\n",
       "399  1.083596 -0.990844  1.340598\n",
       "\n",
       "[400 rows x 3 columns]"
      ]
     },
     "execution_count": 23,
     "metadata": {},
     "output_type": "execute_result"
    }
   ],
   "source": [
    "pd.DataFrame(dtemp)"
   ]
  },
  {
   "cell_type": "code",
   "execution_count": 28,
   "id": "d89a4fa8-49b6-42ce-a4a4-71cec0ccd2bc",
   "metadata": {},
   "outputs": [
    {
     "data": {
      "text/html": [
       "<div>\n",
       "<style scoped>\n",
       "    .dataframe tbody tr th:only-of-type {\n",
       "        vertical-align: middle;\n",
       "    }\n",
       "\n",
       "    .dataframe tbody tr th {\n",
       "        vertical-align: top;\n",
       "    }\n",
       "\n",
       "    .dataframe thead th {\n",
       "        text-align: right;\n",
       "    }\n",
       "</style>\n",
       "<table border=\"1\" class=\"dataframe\">\n",
       "  <thead>\n",
       "    <tr style=\"text-align: right;\">\n",
       "      <th></th>\n",
       "      <th>0</th>\n",
       "      <th>1</th>\n",
       "      <th>2</th>\n",
       "    </tr>\n",
       "  </thead>\n",
       "  <tbody>\n",
       "    <tr>\n",
       "      <th>count</th>\n",
       "      <td>4.000000e+02</td>\n",
       "      <td>4.000000e+02</td>\n",
       "      <td>4.000000e+02</td>\n",
       "    </tr>\n",
       "    <tr>\n",
       "      <th>mean</th>\n",
       "      <td>-7.105427e-17</td>\n",
       "      <td>-1.776357e-17</td>\n",
       "      <td>1.421085e-16</td>\n",
       "    </tr>\n",
       "    <tr>\n",
       "      <th>std</th>\n",
       "      <td>1.001252e+00</td>\n",
       "      <td>1.001252e+00</td>\n",
       "      <td>1.001252e+00</td>\n",
       "    </tr>\n",
       "    <tr>\n",
       "      <th>min</th>\n",
       "      <td>-1.877311e+00</td>\n",
       "      <td>-1.607506e+00</td>\n",
       "      <td>-7.459358e-01</td>\n",
       "    </tr>\n",
       "    <tr>\n",
       "      <th>25%</th>\n",
       "      <td>-7.550313e-01</td>\n",
       "      <td>-7.852897e-01</td>\n",
       "      <td>-7.459358e-01</td>\n",
       "    </tr>\n",
       "    <tr>\n",
       "      <th>50%</th>\n",
       "      <td>-6.256110e-02</td>\n",
       "      <td>7.561451e-03</td>\n",
       "      <td>-7.459358e-01</td>\n",
       "    </tr>\n",
       "    <tr>\n",
       "      <th>75%</th>\n",
       "      <td>7.970571e-01</td>\n",
       "      <td>5.361289e-01</td>\n",
       "      <td>1.340598e+00</td>\n",
       "    </tr>\n",
       "    <tr>\n",
       "      <th>max</th>\n",
       "      <td>2.134241e+00</td>\n",
       "      <td>2.356750e+00</td>\n",
       "      <td>1.340598e+00</td>\n",
       "    </tr>\n",
       "  </tbody>\n",
       "</table>\n",
       "</div>"
      ],
      "text/plain": [
       "                  0             1             2\n",
       "count  4.000000e+02  4.000000e+02  4.000000e+02\n",
       "mean  -7.105427e-17 -1.776357e-17  1.421085e-16\n",
       "std    1.001252e+00  1.001252e+00  1.001252e+00\n",
       "min   -1.877311e+00 -1.607506e+00 -7.459358e-01\n",
       "25%   -7.550313e-01 -7.852897e-01 -7.459358e-01\n",
       "50%   -6.256110e-02  7.561451e-03 -7.459358e-01\n",
       "75%    7.970571e-01  5.361289e-01  1.340598e+00\n",
       "max    2.134241e+00  2.356750e+00  1.340598e+00"
      ]
     },
     "execution_count": 28,
     "metadata": {},
     "output_type": "execute_result"
    }
   ],
   "source": [
    "pd.DataFrame(dtemp).describe()"
   ]
  },
  {
   "cell_type": "code",
   "execution_count": 47,
   "id": "e92d6c18-5d80-4953-926a-0e55624f5e9b",
   "metadata": {},
   "outputs": [],
   "source": [
    "X_train = sc.fit_transform(X_train)"
   ]
  },
  {
   "cell_type": "code",
   "execution_count": 30,
   "id": "81767c50-c578-4b86-a5a0-72fb2824885c",
   "metadata": {},
   "outputs": [],
   "source": [
    "X_test = sc.fit_transform(X_test)"
   ]
  },
  {
   "cell_type": "code",
   "execution_count": 31,
   "id": "69567604-33f8-4f34-af57-7f4bc36d940f",
   "metadata": {},
   "outputs": [
    {
     "data": {
      "text/plain": [
       "array([[ 1.08480265, -1.02114931],\n",
       "       [-0.33385818, -0.81943606],\n",
       "       [-0.71216774,  0.50610815],\n",
       "       [ 0.23360615,  0.18913018],\n",
       "       [-0.23928079,  0.10268165],\n",
       "       [ 0.61191571,  1.94691707],\n",
       "       [-1.65794163,  0.07386547],\n",
       "       [-0.71216774,  0.44847579],\n",
       "       [-1.75251902,  0.13149783],\n",
       "       [ 0.13902876,  1.80283618],\n",
       "       [ 0.42276093,  0.24676254],\n",
       "       [-1.0904773 ,  0.24676254],\n",
       "       [-0.23928079, -1.48220817],\n",
       "       [-0.99589991, -1.48220817],\n",
       "       [ 1.46311221,  2.06218179],\n",
       "       [ 1.08480265, -1.25167874],\n",
       "       [ 0.99022526,  1.80283618],\n",
       "       [ 0.23360615,  2.03336561],\n",
       "       [ 1.36853482,  2.26389503],\n",
       "       [-1.27963207, -0.47364192],\n",
       "       [ 0.99022526, -1.10759785],\n",
       "       [-0.71216774,  1.83165236],\n",
       "       [ 0.7064931 , -1.42457581],\n",
       "       [ 0.42276093,  0.04504929],\n",
       "       [ 2.03057654,  1.68757147],\n",
       "       [-1.37420946, -0.67535517],\n",
       "       [ 0.89564787, -1.48220817],\n",
       "       [-0.23928079, -0.70417135],\n",
       "       [-0.42843557, -0.32956103],\n",
       "       [-1.0904773 ,  0.24676254],\n",
       "       [ 2.12515393, -1.07878167],\n",
       "       [-0.52301296,  0.41965961],\n",
       "       [ 0.04445137, -0.18548014],\n",
       "       [-1.0904773 , -1.5686567 ],\n",
       "       [-0.33385818,  0.01623311],\n",
       "       [-0.80674513,  0.33321108],\n",
       "       [ 0.42276093, -0.5024581 ],\n",
       "       [-0.05012602, -0.53127428],\n",
       "       [ 0.51733832,  1.16888025],\n",
       "       [-1.65794163,  0.41965961],\n",
       "       [ 0.32818354,  0.01623311],\n",
       "       [-0.42843557, -1.1652302 ],\n",
       "       [-0.99589991, -0.38719338],\n",
       "       [-1.37420946, -0.24311249],\n",
       "       [-0.23928079, -0.53127428],\n",
       "       [ 0.42276093, -0.04139924],\n",
       "       [ 0.32818354, -1.19404638],\n",
       "       [-0.05012602,  0.21794636],\n",
       "       [ 2.12515393, -0.73298753],\n",
       "       [-1.56336424, -1.59747288],\n",
       "       [-0.14470341,  2.09099796],\n",
       "       [ 0.32818354, -0.32956103],\n",
       "       [-0.33385818,  1.25532879],\n",
       "       [-0.23928079, -0.61772281],\n",
       "       [-1.84709641, -0.79061988],\n",
       "       [ 0.42276093,  0.93835082],\n",
       "       [ 0.51733832,  1.65875529],\n",
       "       [-0.05012602, -0.47364192],\n",
       "       [-0.23928079,  0.16031401],\n",
       "       [-1.37420946, -0.15666396],\n",
       "       [ 1.17938004,  0.47729197],\n",
       "       [ 1.5576896 , -0.04139924],\n",
       "       [ 0.99022526,  1.91810089],\n",
       "       [-0.61759035, -0.0990316 ],\n",
       "       [-1.65794163,  0.3043949 ],\n",
       "       [-0.80674513, -0.81943606],\n",
       "       [ 1.74684438, -0.32956103],\n",
       "       [-0.71216774, -1.5686567 ],\n",
       "       [-1.0904773 ,  1.34177732],\n",
       "       [-0.90132252, -0.35837721],\n",
       "       [-0.23928079,  0.10268165],\n",
       "       [-0.14470341, -0.56009046],\n",
       "       [ 0.04445137, -0.35837721],\n",
       "       [-0.14470341, -0.32956103],\n",
       "       [ 1.93599915,  2.09099796],\n",
       "       [ 0.13902876,  1.80283618],\n",
       "       [ 0.32818354,  0.01623311],\n",
       "       [-1.18505469, -1.42457581],\n",
       "       [ 0.42276093, -0.53127428],\n",
       "       [-0.33385818, -0.81943606],\n",
       "       [-0.71216774, -1.62628906],\n",
       "       [-0.99589991,  1.88928471],\n",
       "       [ 0.89564787, -1.39575963],\n",
       "       [ 0.13902876,  0.04504929],\n",
       "       [ 0.42276093,  0.24676254],\n",
       "       [-0.05012602, -0.01258306],\n",
       "       [ 1.46311221,  0.93835082],\n",
       "       [-0.23928079, -0.30074485],\n",
       "       [-0.52301296,  1.31296115],\n",
       "       [-0.90132252,  0.21794636],\n",
       "       [-0.42843557,  2.23507886],\n",
       "       [ 1.08480265,  0.47729197],\n",
       "       [ 1.84142177,  0.07386547],\n",
       "       [ 1.17938004, -0.79061988],\n",
       "       [ 0.89564787, -0.64653899],\n",
       "       [-0.42843557, -0.07021542],\n",
       "       [ 0.23360615, -0.18548014],\n",
       "       [ 1.36853482,  1.22651261],\n",
       "       [-1.84709641,  0.3043949 ],\n",
       "       [ 0.89564787, -1.07878167],\n",
       "       [-1.84709641, -0.0990316 ],\n",
       "       [ 1.27395743,  1.80283618],\n",
       "       [-0.05012602,  0.18913018],\n",
       "       [-1.18505469,  0.24676254],\n",
       "       [-0.90132252,  0.36202726],\n",
       "       [ 1.84142177, -1.10759785],\n",
       "       [-0.71216774,  0.21794636],\n",
       "       [ 0.89564787,  1.02479936],\n",
       "       [ 0.99022526,  0.07386547],\n",
       "       [-1.27963207, -1.39575963],\n",
       "       [ 1.27395743, -1.39575963],\n",
       "       [-0.14470341,  0.79426993],\n",
       "       [ 1.84142177, -0.32956103],\n",
       "       [-1.37420946, -1.25167874],\n",
       "       [-0.14470341,  1.34177732],\n",
       "       [ 0.13902876,  0.21794636],\n",
       "       [ 1.27395743,  2.14863032],\n",
       "       [-0.05012602,  0.07386547],\n",
       "       [-0.99589991,  0.7078214 ],\n",
       "       [-1.18505469,  0.21794636],\n",
       "       [ 0.42276093,  2.23507886],\n",
       "       [-0.71216774, -0.64653899],\n",
       "       [-1.46878685, -0.47364192],\n",
       "       [-0.90132252, -0.47364192],\n",
       "       [-0.52301296,  0.82308611],\n",
       "       [-0.80674513, -1.25167874],\n",
       "       [-0.61759035,  0.50610815],\n",
       "       [ 0.80107049, -0.35837721],\n",
       "       [-1.46878685, -0.24311249],\n",
       "       [ 0.04445137, -0.61772281],\n",
       "       [-1.27963207, -0.38719338],\n",
       "       [ 0.51733832,  1.77402   ],\n",
       "       [-0.05012602,  0.10268165],\n",
       "       [-0.61759035,  0.13149783],\n",
       "       [-0.99589991,  0.47729197],\n",
       "       [ 0.89564787,  1.19769643],\n",
       "       [-0.61759035, -0.15666396],\n",
       "       [ 0.04445137, -0.01258306],\n",
       "       [-0.99589991,  0.36202726],\n",
       "       [ 1.93599915,  0.85190229],\n",
       "       [-1.0904773 , -1.59747288],\n",
       "       [-0.23928079,  0.04504929],\n",
       "       [ 0.32818354, -0.24311249],\n",
       "       [ 0.32818354, -0.01258306],\n",
       "       [-0.61759035, -1.07878167],\n",
       "       [ 0.42276093, -0.18548014],\n",
       "       [ 2.03057654,  0.13149783],\n",
       "       [ 0.99022526,  1.3705935 ],\n",
       "       [-0.23928079, -0.38719338],\n",
       "       [ 2.12515393, -0.84825224],\n",
       "       [-1.75251902,  0.39084343],\n",
       "       [-0.23928079, -0.18548014],\n",
       "       [-0.71216774,  1.02479936],\n",
       "       [-1.27963207, -0.47364192],\n",
       "       [-1.27963207, -1.51102435],\n",
       "       [ 0.99022526, -1.19404638],\n",
       "       [-0.05012602, -1.10759785],\n",
       "       [-0.99589991,  0.50610815],\n",
       "       [ 2.12515393,  0.88071847],\n",
       "       [-1.0904773 , -1.62628906],\n",
       "       [ 2.03057654,  2.06218179],\n",
       "       [ 1.46311221,  0.3043949 ],\n",
       "       [ 0.04445137,  1.16888025],\n",
       "       [-0.05012602,  2.14863032],\n",
       "       [-0.05012602, -0.27192867],\n",
       "       [ 0.99022526,  2.00454943],\n",
       "       [-0.14470341, -1.10759785],\n",
       "       [ 0.80107049,  0.07386547],\n",
       "       [-1.46878685, -1.28049492],\n",
       "       [-1.65794163, -1.02114931],\n",
       "       [-0.90132252,  0.50610815],\n",
       "       [-0.23928079, -0.01258306],\n",
       "       [ 0.80107049,  0.21794636],\n",
       "       [-0.23928079, -0.79061988],\n",
       "       [ 0.80107049,  0.47729197],\n",
       "       [-1.56336424,  0.01623311],\n",
       "       [-0.80674513, -0.30074485],\n",
       "       [-0.61759035, -0.38719338],\n",
       "       [ 0.7064931 , -1.42457581],\n",
       "       [ 0.99022526,  1.71638764],\n",
       "       [ 1.84142177,  1.45704204],\n",
       "       [-1.27963207,  0.36202726],\n",
       "       [ 0.32818354, -0.7618037 ],\n",
       "       [-0.90132252,  0.39084343],\n",
       "       [ 0.42276093,  0.21794636],\n",
       "       [ 2.03057654, -0.84825224],\n",
       "       [-0.90132252, -0.35837721],\n",
       "       [ 1.08480265,  0.50610815],\n",
       "       [ 0.99022526, -1.10759785],\n",
       "       [-0.23928079, -0.93470078],\n",
       "       [-0.05012602,  1.88928471],\n",
       "       [ 1.08480265,  2.00454943],\n",
       "       [-1.18505469,  0.53492433],\n",
       "       [ 1.08480265, -0.18548014],\n",
       "       [ 1.65226699, -0.93470078],\n",
       "       [-1.46878685,  0.27557872],\n",
       "       [ 0.23360615, -0.30074485],\n",
       "       [ 1.17938004, -1.48220817],\n",
       "       [-0.23928079,  0.21794636],\n",
       "       [-0.14470341,  1.54349057],\n",
       "       [ 1.93599915, -0.96351695],\n",
       "       [ 0.80107049, -1.39575963],\n",
       "       [-1.0904773 , -1.13641402],\n",
       "       [ 1.36853482, -1.45339199],\n",
       "       [ 0.89564787, -0.58890663],\n",
       "       [-1.75251902, -1.33812727],\n",
       "       [-0.71216774,  0.24676254],\n",
       "       [-0.71216774,  1.28414497],\n",
       "       [ 2.12515393, -0.84825224],\n",
       "       [-0.05012602, -0.04139924],\n",
       "       [ 0.23360615, -0.01258306],\n",
       "       [ 0.13902876, -0.30074485],\n",
       "       [-1.0904773 ,  0.01623311],\n",
       "       [-0.99589991, -0.41600956],\n",
       "       [ 1.36853482,  1.91810089],\n",
       "       [-0.99589991, -0.38719338],\n",
       "       [ 0.80107049,  0.7078214 ],\n",
       "       [ 0.23360615, -0.35837721],\n",
       "       [ 0.80107049, -1.25167874],\n",
       "       [-0.05012602, -0.56009046],\n",
       "       [ 0.23360615, -0.41600956],\n",
       "       [-1.75251902, -1.3093111 ],\n",
       "       [-0.61759035, -1.62628906],\n",
       "       [-0.05012602,  2.09099796],\n",
       "       [ 0.13902876,  0.10268165],\n",
       "       [ 0.32818354,  0.01623311],\n",
       "       [ 0.42276093, -0.18548014],\n",
       "       [ 0.99022526,  0.7078214 ],\n",
       "       [ 0.32818354,  0.44847579],\n",
       "       [ 0.89564787,  0.967167  ],\n",
       "       [-0.23928079, -0.32956103],\n",
       "       [ 2.12515393,  0.33321108],\n",
       "       [ 0.89564787, -0.70417135],\n",
       "       [-0.80674513,  2.20626268],\n",
       "       [-0.23928079, -0.41600956],\n",
       "       [-0.90132252, -0.99233313],\n",
       "       [-0.90132252,  1.48585822],\n",
       "       [ 0.13902876, -0.84825224],\n",
       "       [-1.27963207,  0.50610815],\n",
       "       [ 0.42276093, -0.5024581 ],\n",
       "       [-1.65794163,  0.3043949 ],\n",
       "       [-0.14470341,  0.10268165],\n",
       "       [ 1.5576896 , -1.3093111 ],\n",
       "       [-0.61759035, -1.53984052],\n",
       "       [ 0.89564787, -0.81943606],\n",
       "       [ 0.7064931 , -1.13641402],\n",
       "       [-0.33385818,  1.16888025],\n",
       "       [ 0.13902876, -0.01258306],\n",
       "       [ 0.7064931 , -0.7618037 ],\n",
       "       [ 1.74684438,  1.77402   ],\n",
       "       [ 0.13902876, -0.84825224],\n",
       "       [ 0.80107049, -0.87706842],\n",
       "       [ 0.13902876, -0.35837721],\n",
       "       [-0.42843557, -0.81943606],\n",
       "       [-1.0904773 , -0.56009046],\n",
       "       [-0.23928079,  0.73663758],\n",
       "       [ 0.89564787, -1.33812727],\n",
       "       [ 0.99022526, -0.87706842],\n",
       "       [-1.75251902, -0.04139924],\n",
       "       [ 0.32818354, -0.58890663],\n",
       "       [ 0.04445137,  1.19769643],\n",
       "       [ 1.65226699,  1.68757147],\n",
       "       [-1.56336424, -0.0990316 ],\n",
       "       [-0.42843557, -0.58890663],\n",
       "       [ 0.23360615,  0.10268165],\n",
       "       [-0.52301296,  2.26389503],\n",
       "       [ 0.13902876,  1.45704204],\n",
       "       [-0.61759035,  0.07386547],\n",
       "       [-0.42843557,  1.19769643],\n",
       "       [-0.23928079, -0.35837721],\n",
       "       [ 0.80107049, -1.42457581],\n",
       "       [-1.0904773 , -1.62628906],\n",
       "       [ 0.04445137, -0.61772281],\n",
       "       [-0.23928079, -1.42457581],\n",
       "       [-0.42843557, -1.25167874],\n",
       "       [-1.37420946,  0.3043949 ],\n",
       "       [-0.42843557, -0.87706842],\n",
       "       [ 0.7064931 ,  0.21794636],\n",
       "       [-0.23928079,  0.01623311],\n",
       "       [ 1.93599915,  0.67900522],\n",
       "       [-0.23928079,  0.01623311],\n",
       "       [ 0.13902876,  0.16031401],\n",
       "       [-1.27963207, -1.28049492],\n",
       "       [ 0.42276093,  0.10268165],\n",
       "       [ 0.13902876,  0.7078214 ],\n",
       "       [-1.84709641,  0.41965961],\n",
       "       [ 0.89564787, -0.61772281],\n",
       "       [-0.05012602,  0.16031401],\n",
       "       [-0.99589991, -1.5686567 ],\n",
       "       [ 2.12515393,  1.05361554],\n",
       "       [-0.14470341, -0.61772281],\n",
       "       [-1.46878685, -1.53984052],\n",
       "       [ 0.80107049,  1.31296115],\n",
       "       [-0.61759035,  1.34177732],\n",
       "       [ 0.42276093, -0.21429631],\n",
       "       [-1.65794163, -1.39575963],\n",
       "       [ 0.23360615,  0.01623311],\n",
       "       [ 1.5576896 ,  0.93835082],\n",
       "       [-1.27963207, -1.13641402],\n",
       "       [ 0.42276093,  0.53492433]])"
      ]
     },
     "execution_count": 31,
     "metadata": {},
     "output_type": "execute_result"
    }
   ],
   "source": [
    "X_train"
   ]
  },
  {
   "cell_type": "code",
   "execution_count": 32,
   "id": "8e124a0c-539b-4f3a-b561-d859d409453d",
   "metadata": {},
   "outputs": [],
   "source": [
    "from sklearn.neighbors import KNeighborsClassifier"
   ]
  },
  {
   "cell_type": "code",
   "execution_count": 33,
   "id": "ec9959d5-03d8-45d7-8aaa-dc76e51154de",
   "metadata": {},
   "outputs": [],
   "source": [
    "knn = KNeighborsClassifier(n_neighbors = 5)"
   ]
  },
  {
   "cell_type": "code",
   "execution_count": 34,
   "id": "22b0aad2-8981-4a33-bb4c-362bf2f6141a",
   "metadata": {},
   "outputs": [
    {
     "data": {
      "text/html": [
       "<style>#sk-container-id-1 {color: black;background-color: white;}#sk-container-id-1 pre{padding: 0;}#sk-container-id-1 div.sk-toggleable {background-color: white;}#sk-container-id-1 label.sk-toggleable__label {cursor: pointer;display: block;width: 100%;margin-bottom: 0;padding: 0.3em;box-sizing: border-box;text-align: center;}#sk-container-id-1 label.sk-toggleable__label-arrow:before {content: \"▸\";float: left;margin-right: 0.25em;color: #696969;}#sk-container-id-1 label.sk-toggleable__label-arrow:hover:before {color: black;}#sk-container-id-1 div.sk-estimator:hover label.sk-toggleable__label-arrow:before {color: black;}#sk-container-id-1 div.sk-toggleable__content {max-height: 0;max-width: 0;overflow: hidden;text-align: left;background-color: #f0f8ff;}#sk-container-id-1 div.sk-toggleable__content pre {margin: 0.2em;color: black;border-radius: 0.25em;background-color: #f0f8ff;}#sk-container-id-1 input.sk-toggleable__control:checked~div.sk-toggleable__content {max-height: 200px;max-width: 100%;overflow: auto;}#sk-container-id-1 input.sk-toggleable__control:checked~label.sk-toggleable__label-arrow:before {content: \"▾\";}#sk-container-id-1 div.sk-estimator input.sk-toggleable__control:checked~label.sk-toggleable__label {background-color: #d4ebff;}#sk-container-id-1 div.sk-label input.sk-toggleable__control:checked~label.sk-toggleable__label {background-color: #d4ebff;}#sk-container-id-1 input.sk-hidden--visually {border: 0;clip: rect(1px 1px 1px 1px);clip: rect(1px, 1px, 1px, 1px);height: 1px;margin: -1px;overflow: hidden;padding: 0;position: absolute;width: 1px;}#sk-container-id-1 div.sk-estimator {font-family: monospace;background-color: #f0f8ff;border: 1px dotted black;border-radius: 0.25em;box-sizing: border-box;margin-bottom: 0.5em;}#sk-container-id-1 div.sk-estimator:hover {background-color: #d4ebff;}#sk-container-id-1 div.sk-parallel-item::after {content: \"\";width: 100%;border-bottom: 1px solid gray;flex-grow: 1;}#sk-container-id-1 div.sk-label:hover label.sk-toggleable__label {background-color: #d4ebff;}#sk-container-id-1 div.sk-serial::before {content: \"\";position: absolute;border-left: 1px solid gray;box-sizing: border-box;top: 0;bottom: 0;left: 50%;z-index: 0;}#sk-container-id-1 div.sk-serial {display: flex;flex-direction: column;align-items: center;background-color: white;padding-right: 0.2em;padding-left: 0.2em;position: relative;}#sk-container-id-1 div.sk-item {position: relative;z-index: 1;}#sk-container-id-1 div.sk-parallel {display: flex;align-items: stretch;justify-content: center;background-color: white;position: relative;}#sk-container-id-1 div.sk-item::before, #sk-container-id-1 div.sk-parallel-item::before {content: \"\";position: absolute;border-left: 1px solid gray;box-sizing: border-box;top: 0;bottom: 0;left: 50%;z-index: -1;}#sk-container-id-1 div.sk-parallel-item {display: flex;flex-direction: column;z-index: 1;position: relative;background-color: white;}#sk-container-id-1 div.sk-parallel-item:first-child::after {align-self: flex-end;width: 50%;}#sk-container-id-1 div.sk-parallel-item:last-child::after {align-self: flex-start;width: 50%;}#sk-container-id-1 div.sk-parallel-item:only-child::after {width: 0;}#sk-container-id-1 div.sk-dashed-wrapped {border: 1px dashed gray;margin: 0 0.4em 0.5em 0.4em;box-sizing: border-box;padding-bottom: 0.4em;background-color: white;}#sk-container-id-1 div.sk-label label {font-family: monospace;font-weight: bold;display: inline-block;line-height: 1.2em;}#sk-container-id-1 div.sk-label-container {text-align: center;}#sk-container-id-1 div.sk-container {/* jupyter's `normalize.less` sets `[hidden] { display: none; }` but bootstrap.min.css set `[hidden] { display: none !important; }` so we also need the `!important` here to be able to override the default hidden behavior on the sphinx rendered scikit-learn.org. See: https://github.com/scikit-learn/scikit-learn/issues/21755 */display: inline-block !important;position: relative;}#sk-container-id-1 div.sk-text-repr-fallback {display: none;}</style><div id=\"sk-container-id-1\" class=\"sk-top-container\"><div class=\"sk-text-repr-fallback\"><pre>KNeighborsClassifier()</pre><b>In a Jupyter environment, please rerun this cell to show the HTML representation or trust the notebook. <br />On GitHub, the HTML representation is unable to render, please try loading this page with nbviewer.org.</b></div><div class=\"sk-container\" hidden><div class=\"sk-item\"><div class=\"sk-estimator sk-toggleable\"><input class=\"sk-toggleable__control sk-hidden--visually\" id=\"sk-estimator-id-1\" type=\"checkbox\" checked><label for=\"sk-estimator-id-1\" class=\"sk-toggleable__label sk-toggleable__label-arrow\">KNeighborsClassifier</label><div class=\"sk-toggleable__content\"><pre>KNeighborsClassifier()</pre></div></div></div></div></div>"
      ],
      "text/plain": [
       "KNeighborsClassifier()"
      ]
     },
     "execution_count": 34,
     "metadata": {},
     "output_type": "execute_result"
    }
   ],
   "source": [
    "knn.fit(X_train,y_train)"
   ]
  },
  {
   "cell_type": "code",
   "execution_count": 50,
   "id": "f99829e4-67eb-411f-95f7-2e81b02434d1",
   "metadata": {},
   "outputs": [
    {
     "data": {
      "text/plain": [
       "array([0, 1, 0, 1, 1, 0, 0, 1, 0, 0, 1, 0, 1, 0, 1, 0, 0, 0, 1, 0, 0, 0,\n",
       "       0, 0, 1, 1, 1, 0, 0, 1, 0, 1, 1, 0, 0, 0, 0, 0, 1, 0, 1, 1, 0, 1,\n",
       "       0, 0, 0, 1, 0, 0, 0, 0, 0, 1, 1, 0, 1, 0, 0, 0, 0, 1, 0, 1, 1, 1,\n",
       "       1, 0, 0, 0, 0, 0, 0, 0, 1, 1, 1, 0, 0, 1, 1, 1, 1, 1, 0, 0, 0, 1,\n",
       "       1, 1, 0, 1, 0, 1, 1, 0, 1, 1, 0, 0], dtype=int64)"
      ]
     },
     "execution_count": 50,
     "metadata": {},
     "output_type": "execute_result"
    }
   ],
   "source": [
    "y_pred = knn.predict(X_test)\n",
    "y_pred"
   ]
  },
  {
   "cell_type": "code",
   "execution_count": 48,
   "id": "24b6d4e6-0cd9-4d1c-abbc-b143e82d793d",
   "metadata": {},
   "outputs": [
    {
     "data": {
      "text/plain": [
       "244    0\n",
       "366    1\n",
       "163    0\n",
       "379    1\n",
       "182    1\n",
       "84     0\n",
       "33     0\n",
       "230    1\n",
       "104    0\n",
       "61     0\n",
       "273    1\n",
       "248    0\n",
       "Name: Purchased, dtype: int64"
      ]
     },
     "execution_count": 48,
     "metadata": {},
     "output_type": "execute_result"
    }
   ],
   "source": [
    "y_test.head(12)"
   ]
  },
  {
   "cell_type": "code",
   "execution_count": 51,
   "id": "00faee67-37d6-4a40-a2bb-9f07a427e44a",
   "metadata": {},
   "outputs": [],
   "source": [
    "from sklearn.metrics import accuracy_score,classification_report,confusion_matrix"
   ]
  },
  {
   "cell_type": "code",
   "execution_count": 52,
   "id": "7a9e7a38-eb41-4f5a-af85-1ee55e55e201",
   "metadata": {},
   "outputs": [
    {
     "data": {
      "text/plain": [
       "0.89"
      ]
     },
     "execution_count": 52,
     "metadata": {},
     "output_type": "execute_result"
    }
   ],
   "source": [
    "acs = accuracy_score(y_test,y_pred)\n",
    "acs"
   ]
  },
  {
   "cell_type": "code",
   "execution_count": 54,
   "id": "7c201902-732c-4eef-b4c6-4d392ae06020",
   "metadata": {},
   "outputs": [
    {
     "name": "stdout",
     "output_type": "stream",
     "text": [
      "              precision    recall  f1-score   support\n",
      "\n",
      "           0       0.98      0.85      0.91        66\n",
      "           1       0.77      0.97      0.86        34\n",
      "\n",
      "    accuracy                           0.89       100\n",
      "   macro avg       0.87      0.91      0.88       100\n",
      "weighted avg       0.91      0.89      0.89       100\n",
      "\n"
     ]
    }
   ],
   "source": [
    "cr = classification_report(y_test,y_pred)\n",
    "print(cr)"
   ]
  },
  {
   "cell_type": "code",
   "execution_count": 57,
   "id": "ea4edb14-626b-480b-9047-6738eda826fe",
   "metadata": {},
   "outputs": [
    {
     "data": {
      "text/plain": [
       "array([[56, 10],\n",
       "       [ 1, 33]], dtype=int64)"
      ]
     },
     "execution_count": 57,
     "metadata": {},
     "output_type": "execute_result"
    }
   ],
   "source": [
    "cm = confusion_matrix(y_test,y_pred)\n",
    "cm"
   ]
  },
  {
   "cell_type": "code",
   "execution_count": null,
   "id": "e3ae86cb-6955-45f6-b9df-dce283006e31",
   "metadata": {},
   "outputs": [],
   "source": []
  }
 ],
 "metadata": {
  "kernelspec": {
   "display_name": "Python 3 (ipykernel)",
   "language": "python",
   "name": "python3"
  },
  "language_info": {
   "codemirror_mode": {
    "name": "ipython",
    "version": 3
   },
   "file_extension": ".py",
   "mimetype": "text/x-python",
   "name": "python",
   "nbconvert_exporter": "python",
   "pygments_lexer": "ipython3",
   "version": "3.11.7"
  }
 },
 "nbformat": 4,
 "nbformat_minor": 5
}
