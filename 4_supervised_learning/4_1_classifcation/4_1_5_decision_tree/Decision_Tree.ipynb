{
 "cells": [
  {
   "cell_type": "markdown",
   "id": "234f313d-e8cc-45f5-9635-c8c786778ab1",
   "metadata": {},
   "source": [
    "# Decision Tree"
   ]
  },
  {
   "cell_type": "markdown",
   "id": "88786384-69b0-4003-99ec-158773a84e36",
   "metadata": {},
   "source": [
    "## Importing Libraries"
   ]
  },
  {
   "cell_type": "code",
   "execution_count": 1,
   "id": "aec5b519-65bf-4761-9bb5-ad0a8caa060b",
   "metadata": {},
   "outputs": [],
   "source": [
    "import pandas as pd\n",
    "import numpy as np\n",
    "import matplotlib.pyplot as plt\n",
    "import warnings\n",
    "warnings.filterwarnings(action = 'ignore')\n",
    "#plt.style.use(['seaborn-bright', 'dark_background'])"
   ]
  },
  {
   "cell_type": "markdown",
   "id": "091a4ad9-4837-410d-ab31-2ec321994650",
   "metadata": {},
   "source": [
    "# Importing dataset"
   ]
  },
  {
   "cell_type": "code",
   "execution_count": 3,
   "id": "d4267789-c09d-44e7-8d6f-a9cd466ec0a8",
   "metadata": {},
   "outputs": [
    {
     "data": {
      "text/html": [
       "<div>\n",
       "<style scoped>\n",
       "    .dataframe tbody tr th:only-of-type {\n",
       "        vertical-align: middle;\n",
       "    }\n",
       "\n",
       "    .dataframe tbody tr th {\n",
       "        vertical-align: top;\n",
       "    }\n",
       "\n",
       "    .dataframe thead th {\n",
       "        text-align: right;\n",
       "    }\n",
       "</style>\n",
       "<table border=\"1\" class=\"dataframe\">\n",
       "  <thead>\n",
       "    <tr style=\"text-align: right;\">\n",
       "      <th></th>\n",
       "      <th>customer_id</th>\n",
       "      <th>vintage</th>\n",
       "      <th>age</th>\n",
       "      <th>gender</th>\n",
       "      <th>dependents</th>\n",
       "      <th>occupation</th>\n",
       "      <th>city</th>\n",
       "      <th>customer_nw_category</th>\n",
       "      <th>branch_code</th>\n",
       "      <th>days_since_last_transaction</th>\n",
       "      <th>...</th>\n",
       "      <th>previous_month_end_balance</th>\n",
       "      <th>average_monthly_balance_prevQ</th>\n",
       "      <th>average_monthly_balance_prevQ2</th>\n",
       "      <th>current_month_credit</th>\n",
       "      <th>previous_month_credit</th>\n",
       "      <th>current_month_debit</th>\n",
       "      <th>previous_month_debit</th>\n",
       "      <th>current_month_balance</th>\n",
       "      <th>previous_month_balance</th>\n",
       "      <th>churn</th>\n",
       "    </tr>\n",
       "  </thead>\n",
       "  <tbody>\n",
       "    <tr>\n",
       "      <th>0</th>\n",
       "      <td>1</td>\n",
       "      <td>3135</td>\n",
       "      <td>66</td>\n",
       "      <td>0</td>\n",
       "      <td>0.0</td>\n",
       "      <td>0</td>\n",
       "      <td>187.0</td>\n",
       "      <td>2</td>\n",
       "      <td>755</td>\n",
       "      <td>224.0</td>\n",
       "      <td>...</td>\n",
       "      <td>1458.71</td>\n",
       "      <td>1458.71</td>\n",
       "      <td>1449.07</td>\n",
       "      <td>0.20</td>\n",
       "      <td>0.20</td>\n",
       "      <td>0.20</td>\n",
       "      <td>0.20</td>\n",
       "      <td>1458.71</td>\n",
       "      <td>1458.71</td>\n",
       "      <td>0</td>\n",
       "    </tr>\n",
       "    <tr>\n",
       "      <th>1</th>\n",
       "      <td>6</td>\n",
       "      <td>2531</td>\n",
       "      <td>42</td>\n",
       "      <td>0</td>\n",
       "      <td>2.0</td>\n",
       "      <td>0</td>\n",
       "      <td>1494.0</td>\n",
       "      <td>3</td>\n",
       "      <td>388</td>\n",
       "      <td>58.0</td>\n",
       "      <td>...</td>\n",
       "      <td>1401.72</td>\n",
       "      <td>1643.31</td>\n",
       "      <td>1871.12</td>\n",
       "      <td>0.33</td>\n",
       "      <td>714.61</td>\n",
       "      <td>588.62</td>\n",
       "      <td>1538.06</td>\n",
       "      <td>1157.15</td>\n",
       "      <td>1677.16</td>\n",
       "      <td>1</td>\n",
       "    </tr>\n",
       "    <tr>\n",
       "      <th>2</th>\n",
       "      <td>7</td>\n",
       "      <td>263</td>\n",
       "      <td>42</td>\n",
       "      <td>1</td>\n",
       "      <td>0.0</td>\n",
       "      <td>0</td>\n",
       "      <td>1096.0</td>\n",
       "      <td>2</td>\n",
       "      <td>1666</td>\n",
       "      <td>60.0</td>\n",
       "      <td>...</td>\n",
       "      <td>16059.34</td>\n",
       "      <td>15211.29</td>\n",
       "      <td>13798.82</td>\n",
       "      <td>0.36</td>\n",
       "      <td>0.36</td>\n",
       "      <td>857.50</td>\n",
       "      <td>286.07</td>\n",
       "      <td>15719.44</td>\n",
       "      <td>15349.75</td>\n",
       "      <td>0</td>\n",
       "    </tr>\n",
       "    <tr>\n",
       "      <th>3</th>\n",
       "      <td>8</td>\n",
       "      <td>5922</td>\n",
       "      <td>72</td>\n",
       "      <td>0</td>\n",
       "      <td>0.0</td>\n",
       "      <td>1</td>\n",
       "      <td>1020.0</td>\n",
       "      <td>1</td>\n",
       "      <td>1</td>\n",
       "      <td>98.0</td>\n",
       "      <td>...</td>\n",
       "      <td>7714.19</td>\n",
       "      <td>7859.74</td>\n",
       "      <td>11232.37</td>\n",
       "      <td>0.64</td>\n",
       "      <td>0.64</td>\n",
       "      <td>1299.64</td>\n",
       "      <td>439.26</td>\n",
       "      <td>7076.06</td>\n",
       "      <td>7755.98</td>\n",
       "      <td>0</td>\n",
       "    </tr>\n",
       "    <tr>\n",
       "      <th>4</th>\n",
       "      <td>9</td>\n",
       "      <td>1145</td>\n",
       "      <td>46</td>\n",
       "      <td>0</td>\n",
       "      <td>0.0</td>\n",
       "      <td>0</td>\n",
       "      <td>623.0</td>\n",
       "      <td>2</td>\n",
       "      <td>317</td>\n",
       "      <td>172.0</td>\n",
       "      <td>...</td>\n",
       "      <td>8519.53</td>\n",
       "      <td>6511.82</td>\n",
       "      <td>16314.17</td>\n",
       "      <td>0.27</td>\n",
       "      <td>0.27</td>\n",
       "      <td>443.13</td>\n",
       "      <td>5688.44</td>\n",
       "      <td>8563.84</td>\n",
       "      <td>5317.04</td>\n",
       "      <td>0</td>\n",
       "    </tr>\n",
       "  </tbody>\n",
       "</table>\n",
       "<p>5 rows × 21 columns</p>\n",
       "</div>"
      ],
      "text/plain": [
       "   customer_id  vintage  age  gender  dependents  occupation    city  \\\n",
       "0            1     3135   66       0         0.0           0   187.0   \n",
       "1            6     2531   42       0         2.0           0  1494.0   \n",
       "2            7      263   42       1         0.0           0  1096.0   \n",
       "3            8     5922   72       0         0.0           1  1020.0   \n",
       "4            9     1145   46       0         0.0           0   623.0   \n",
       "\n",
       "   customer_nw_category  branch_code  days_since_last_transaction  ...  \\\n",
       "0                     2          755                        224.0  ...   \n",
       "1                     3          388                         58.0  ...   \n",
       "2                     2         1666                         60.0  ...   \n",
       "3                     1            1                         98.0  ...   \n",
       "4                     2          317                        172.0  ...   \n",
       "\n",
       "   previous_month_end_balance  average_monthly_balance_prevQ  \\\n",
       "0                     1458.71                        1458.71   \n",
       "1                     1401.72                        1643.31   \n",
       "2                    16059.34                       15211.29   \n",
       "3                     7714.19                        7859.74   \n",
       "4                     8519.53                        6511.82   \n",
       "\n",
       "   average_monthly_balance_prevQ2  current_month_credit  \\\n",
       "0                         1449.07                  0.20   \n",
       "1                         1871.12                  0.33   \n",
       "2                        13798.82                  0.36   \n",
       "3                        11232.37                  0.64   \n",
       "4                        16314.17                  0.27   \n",
       "\n",
       "   previous_month_credit  current_month_debit  previous_month_debit  \\\n",
       "0                   0.20                 0.20                  0.20   \n",
       "1                 714.61               588.62               1538.06   \n",
       "2                   0.36               857.50                286.07   \n",
       "3                   0.64              1299.64                439.26   \n",
       "4                   0.27               443.13               5688.44   \n",
       "\n",
       "   current_month_balance  previous_month_balance  churn  \n",
       "0                1458.71                 1458.71      0  \n",
       "1                1157.15                 1677.16      1  \n",
       "2               15719.44                15349.75      0  \n",
       "3                7076.06                 7755.98      0  \n",
       "4                8563.84                 5317.04      0  \n",
       "\n",
       "[5 rows x 21 columns]"
      ]
     },
     "execution_count": 3,
     "metadata": {},
     "output_type": "execute_result"
    }
   ],
   "source": [
    "data = pd.read_csv(\"..\\data_sets\\churn_prediction_simple.csv\")\n",
    "data.head()"
   ]
  },
  {
   "cell_type": "code",
   "execution_count": 4,
   "id": "b301c94e-f321-4207-8fa2-8feee9ead968",
   "metadata": {},
   "outputs": [
    {
     "data": {
      "text/html": [
       "<div>\n",
       "<style scoped>\n",
       "    .dataframe tbody tr th:only-of-type {\n",
       "        vertical-align: middle;\n",
       "    }\n",
       "\n",
       "    .dataframe tbody tr th {\n",
       "        vertical-align: top;\n",
       "    }\n",
       "\n",
       "    .dataframe thead th {\n",
       "        text-align: right;\n",
       "    }\n",
       "</style>\n",
       "<table border=\"1\" class=\"dataframe\">\n",
       "  <thead>\n",
       "    <tr style=\"text-align: right;\">\n",
       "      <th></th>\n",
       "      <th>customer_id</th>\n",
       "      <th>vintage</th>\n",
       "      <th>age</th>\n",
       "      <th>gender</th>\n",
       "      <th>dependents</th>\n",
       "      <th>occupation</th>\n",
       "      <th>city</th>\n",
       "      <th>customer_nw_category</th>\n",
       "      <th>branch_code</th>\n",
       "      <th>days_since_last_transaction</th>\n",
       "      <th>...</th>\n",
       "      <th>previous_month_end_balance</th>\n",
       "      <th>average_monthly_balance_prevQ</th>\n",
       "      <th>average_monthly_balance_prevQ2</th>\n",
       "      <th>current_month_credit</th>\n",
       "      <th>previous_month_credit</th>\n",
       "      <th>current_month_debit</th>\n",
       "      <th>previous_month_debit</th>\n",
       "      <th>current_month_balance</th>\n",
       "      <th>previous_month_balance</th>\n",
       "      <th>churn</th>\n",
       "    </tr>\n",
       "  </thead>\n",
       "  <tbody>\n",
       "    <tr>\n",
       "      <th>count</th>\n",
       "      <td>22067.000000</td>\n",
       "      <td>22067.000000</td>\n",
       "      <td>22067.000000</td>\n",
       "      <td>22067.000000</td>\n",
       "      <td>22067.000000</td>\n",
       "      <td>22067.000000</td>\n",
       "      <td>22067.000000</td>\n",
       "      <td>22067.000000</td>\n",
       "      <td>22067.000000</td>\n",
       "      <td>22067.000000</td>\n",
       "      <td>...</td>\n",
       "      <td>2.206700e+04</td>\n",
       "      <td>2.206700e+04</td>\n",
       "      <td>22067.000000</td>\n",
       "      <td>2.206700e+04</td>\n",
       "      <td>2.206700e+04</td>\n",
       "      <td>2.206700e+04</td>\n",
       "      <td>2.206700e+04</td>\n",
       "      <td>2.206700e+04</td>\n",
       "      <td>2.206700e+04</td>\n",
       "      <td>22067.000000</td>\n",
       "    </tr>\n",
       "    <tr>\n",
       "      <th>mean</th>\n",
       "      <td>15115.161372</td>\n",
       "      <td>2547.069334</td>\n",
       "      <td>47.931345</td>\n",
       "      <td>0.391807</td>\n",
       "      <td>0.377487</td>\n",
       "      <td>0.772420</td>\n",
       "      <td>800.318575</td>\n",
       "      <td>2.211991</td>\n",
       "      <td>874.440975</td>\n",
       "      <td>66.934790</td>\n",
       "      <td>...</td>\n",
       "      <td>7.222013e+03</td>\n",
       "      <td>7.181977e+03</td>\n",
       "      <td>6694.966494</td>\n",
       "      <td>3.943065e+03</td>\n",
       "      <td>3.781366e+03</td>\n",
       "      <td>4.070565e+03</td>\n",
       "      <td>3.720333e+03</td>\n",
       "      <td>7.165418e+03</td>\n",
       "      <td>7.182148e+03</td>\n",
       "      <td>0.193683</td>\n",
       "    </tr>\n",
       "    <tr>\n",
       "      <th>std</th>\n",
       "      <td>8737.384035</td>\n",
       "      <td>1598.675520</td>\n",
       "      <td>16.393352</td>\n",
       "      <td>0.488165</td>\n",
       "      <td>1.044629</td>\n",
       "      <td>1.033849</td>\n",
       "      <td>431.454448</td>\n",
       "      <td>0.669556</td>\n",
       "      <td>904.244526</td>\n",
       "      <td>84.133427</td>\n",
       "      <td>...</td>\n",
       "      <td>2.105071e+04</td>\n",
       "      <td>1.927121e+04</td>\n",
       "      <td>17101.802052</td>\n",
       "      <td>8.661750e+04</td>\n",
       "      <td>3.254151e+04</td>\n",
       "      <td>5.726446e+04</td>\n",
       "      <td>2.517514e+04</td>\n",
       "      <td>1.959007e+04</td>\n",
       "      <td>2.097682e+04</td>\n",
       "      <td>0.395192</td>\n",
       "    </tr>\n",
       "    <tr>\n",
       "      <th>min</th>\n",
       "      <td>1.000000</td>\n",
       "      <td>180.000000</td>\n",
       "      <td>1.000000</td>\n",
       "      <td>0.000000</td>\n",
       "      <td>0.000000</td>\n",
       "      <td>0.000000</td>\n",
       "      <td>0.000000</td>\n",
       "      <td>1.000000</td>\n",
       "      <td>1.000000</td>\n",
       "      <td>0.000000</td>\n",
       "      <td>...</td>\n",
       "      <td>-3.145380e+03</td>\n",
       "      <td>1.428690e+03</td>\n",
       "      <td>-16506.100000</td>\n",
       "      <td>1.000000e-02</td>\n",
       "      <td>1.000000e-02</td>\n",
       "      <td>1.000000e-02</td>\n",
       "      <td>1.000000e-02</td>\n",
       "      <td>-3.374180e+03</td>\n",
       "      <td>-5.171920e+03</td>\n",
       "      <td>0.000000</td>\n",
       "    </tr>\n",
       "    <tr>\n",
       "      <th>25%</th>\n",
       "      <td>7522.500000</td>\n",
       "      <td>1321.000000</td>\n",
       "      <td>36.000000</td>\n",
       "      <td>0.000000</td>\n",
       "      <td>0.000000</td>\n",
       "      <td>0.000000</td>\n",
       "      <td>409.000000</td>\n",
       "      <td>2.000000</td>\n",
       "      <td>159.000000</td>\n",
       "      <td>11.000000</td>\n",
       "      <td>...</td>\n",
       "      <td>1.906485e+03</td>\n",
       "      <td>2.209835e+03</td>\n",
       "      <td>1817.980000</td>\n",
       "      <td>3.600000e-01</td>\n",
       "      <td>3.700000e-01</td>\n",
       "      <td>4.700000e-01</td>\n",
       "      <td>4.900000e-01</td>\n",
       "      <td>2.029970e+03</td>\n",
       "      <td>2.090665e+03</td>\n",
       "      <td>0.000000</td>\n",
       "    </tr>\n",
       "    <tr>\n",
       "      <th>50%</th>\n",
       "      <td>15120.000000</td>\n",
       "      <td>2202.000000</td>\n",
       "      <td>46.000000</td>\n",
       "      <td>0.000000</td>\n",
       "      <td>0.000000</td>\n",
       "      <td>0.000000</td>\n",
       "      <td>848.000000</td>\n",
       "      <td>2.000000</td>\n",
       "      <td>531.000000</td>\n",
       "      <td>28.000000</td>\n",
       "      <td>...</td>\n",
       "      <td>3.426740e+03</td>\n",
       "      <td>3.592880e+03</td>\n",
       "      <td>3380.690000</td>\n",
       "      <td>1.130000e+00</td>\n",
       "      <td>6.440000e+00</td>\n",
       "      <td>2.147300e+02</td>\n",
       "      <td>2.285000e+02</td>\n",
       "      <td>3.501740e+03</td>\n",
       "      <td>3.508160e+03</td>\n",
       "      <td>0.000000</td>\n",
       "    </tr>\n",
       "    <tr>\n",
       "      <th>75%</th>\n",
       "      <td>22685.500000</td>\n",
       "      <td>3370.000000</td>\n",
       "      <td>60.000000</td>\n",
       "      <td>1.000000</td>\n",
       "      <td>0.000000</td>\n",
       "      <td>2.000000</td>\n",
       "      <td>1096.000000</td>\n",
       "      <td>3.000000</td>\n",
       "      <td>1374.000000</td>\n",
       "      <td>90.000000</td>\n",
       "      <td>...</td>\n",
       "      <td>6.826095e+03</td>\n",
       "      <td>6.819235e+03</td>\n",
       "      <td>6628.750000</td>\n",
       "      <td>9.937800e+02</td>\n",
       "      <td>1.129115e+03</td>\n",
       "      <td>1.579220e+03</td>\n",
       "      <td>1.643175e+03</td>\n",
       "      <td>6.858385e+03</td>\n",
       "      <td>6.779355e+03</td>\n",
       "      <td>0.000000</td>\n",
       "    </tr>\n",
       "    <tr>\n",
       "      <th>max</th>\n",
       "      <td>30301.000000</td>\n",
       "      <td>11353.000000</td>\n",
       "      <td>90.000000</td>\n",
       "      <td>1.000000</td>\n",
       "      <td>52.000000</td>\n",
       "      <td>4.000000</td>\n",
       "      <td>1649.000000</td>\n",
       "      <td>3.000000</td>\n",
       "      <td>4782.000000</td>\n",
       "      <td>365.000000</td>\n",
       "      <td>...</td>\n",
       "      <td>1.001124e+06</td>\n",
       "      <td>1.192704e+06</td>\n",
       "      <td>856596.510000</td>\n",
       "      <td>1.226985e+07</td>\n",
       "      <td>2.361808e+06</td>\n",
       "      <td>7.637857e+06</td>\n",
       "      <td>1.414168e+06</td>\n",
       "      <td>1.074625e+06</td>\n",
       "      <td>1.326487e+06</td>\n",
       "      <td>1.000000</td>\n",
       "    </tr>\n",
       "  </tbody>\n",
       "</table>\n",
       "<p>8 rows × 21 columns</p>\n",
       "</div>"
      ],
      "text/plain": [
       "        customer_id       vintage           age        gender    dependents  \\\n",
       "count  22067.000000  22067.000000  22067.000000  22067.000000  22067.000000   \n",
       "mean   15115.161372   2547.069334     47.931345      0.391807      0.377487   \n",
       "std     8737.384035   1598.675520     16.393352      0.488165      1.044629   \n",
       "min        1.000000    180.000000      1.000000      0.000000      0.000000   \n",
       "25%     7522.500000   1321.000000     36.000000      0.000000      0.000000   \n",
       "50%    15120.000000   2202.000000     46.000000      0.000000      0.000000   \n",
       "75%    22685.500000   3370.000000     60.000000      1.000000      0.000000   \n",
       "max    30301.000000  11353.000000     90.000000      1.000000     52.000000   \n",
       "\n",
       "         occupation          city  customer_nw_category   branch_code  \\\n",
       "count  22067.000000  22067.000000          22067.000000  22067.000000   \n",
       "mean       0.772420    800.318575              2.211991    874.440975   \n",
       "std        1.033849    431.454448              0.669556    904.244526   \n",
       "min        0.000000      0.000000              1.000000      1.000000   \n",
       "25%        0.000000    409.000000              2.000000    159.000000   \n",
       "50%        0.000000    848.000000              2.000000    531.000000   \n",
       "75%        2.000000   1096.000000              3.000000   1374.000000   \n",
       "max        4.000000   1649.000000              3.000000   4782.000000   \n",
       "\n",
       "       days_since_last_transaction  ...  previous_month_end_balance  \\\n",
       "count                 22067.000000  ...                2.206700e+04   \n",
       "mean                     66.934790  ...                7.222013e+03   \n",
       "std                      84.133427  ...                2.105071e+04   \n",
       "min                       0.000000  ...               -3.145380e+03   \n",
       "25%                      11.000000  ...                1.906485e+03   \n",
       "50%                      28.000000  ...                3.426740e+03   \n",
       "75%                      90.000000  ...                6.826095e+03   \n",
       "max                     365.000000  ...                1.001124e+06   \n",
       "\n",
       "       average_monthly_balance_prevQ  average_monthly_balance_prevQ2  \\\n",
       "count                   2.206700e+04                    22067.000000   \n",
       "mean                    7.181977e+03                     6694.966494   \n",
       "std                     1.927121e+04                    17101.802052   \n",
       "min                     1.428690e+03                   -16506.100000   \n",
       "25%                     2.209835e+03                     1817.980000   \n",
       "50%                     3.592880e+03                     3380.690000   \n",
       "75%                     6.819235e+03                     6628.750000   \n",
       "max                     1.192704e+06                   856596.510000   \n",
       "\n",
       "       current_month_credit  previous_month_credit  current_month_debit  \\\n",
       "count          2.206700e+04           2.206700e+04         2.206700e+04   \n",
       "mean           3.943065e+03           3.781366e+03         4.070565e+03   \n",
       "std            8.661750e+04           3.254151e+04         5.726446e+04   \n",
       "min            1.000000e-02           1.000000e-02         1.000000e-02   \n",
       "25%            3.600000e-01           3.700000e-01         4.700000e-01   \n",
       "50%            1.130000e+00           6.440000e+00         2.147300e+02   \n",
       "75%            9.937800e+02           1.129115e+03         1.579220e+03   \n",
       "max            1.226985e+07           2.361808e+06         7.637857e+06   \n",
       "\n",
       "       previous_month_debit  current_month_balance  previous_month_balance  \\\n",
       "count          2.206700e+04           2.206700e+04            2.206700e+04   \n",
       "mean           3.720333e+03           7.165418e+03            7.182148e+03   \n",
       "std            2.517514e+04           1.959007e+04            2.097682e+04   \n",
       "min            1.000000e-02          -3.374180e+03           -5.171920e+03   \n",
       "25%            4.900000e-01           2.029970e+03            2.090665e+03   \n",
       "50%            2.285000e+02           3.501740e+03            3.508160e+03   \n",
       "75%            1.643175e+03           6.858385e+03            6.779355e+03   \n",
       "max            1.414168e+06           1.074625e+06            1.326487e+06   \n",
       "\n",
       "              churn  \n",
       "count  22067.000000  \n",
       "mean       0.193683  \n",
       "std        0.395192  \n",
       "min        0.000000  \n",
       "25%        0.000000  \n",
       "50%        0.000000  \n",
       "75%        0.000000  \n",
       "max        1.000000  \n",
       "\n",
       "[8 rows x 21 columns]"
      ]
     },
     "execution_count": 4,
     "metadata": {},
     "output_type": "execute_result"
    }
   ],
   "source": [
    "data.describe()"
   ]
  },
  {
   "cell_type": "code",
   "execution_count": 5,
   "id": "91d33bb8-e6f4-4d38-b06a-dcc11610571b",
   "metadata": {},
   "outputs": [
    {
     "name": "stdout",
     "output_type": "stream",
     "text": [
      "<class 'pandas.core.frame.DataFrame'>\n",
      "RangeIndex: 22067 entries, 0 to 22066\n",
      "Data columns (total 21 columns):\n",
      " #   Column                          Non-Null Count  Dtype  \n",
      "---  ------                          --------------  -----  \n",
      " 0   customer_id                     22067 non-null  int64  \n",
      " 1   vintage                         22067 non-null  int64  \n",
      " 2   age                             22067 non-null  int64  \n",
      " 3   gender                          22067 non-null  int64  \n",
      " 4   dependents                      22067 non-null  float64\n",
      " 5   occupation                      22067 non-null  int64  \n",
      " 6   city                            22067 non-null  float64\n",
      " 7   customer_nw_category            22067 non-null  int64  \n",
      " 8   branch_code                     22067 non-null  int64  \n",
      " 9   days_since_last_transaction     22067 non-null  float64\n",
      " 10  current_balance                 22067 non-null  float64\n",
      " 11  previous_month_end_balance      22067 non-null  float64\n",
      " 12  average_monthly_balance_prevQ   22067 non-null  float64\n",
      " 13  average_monthly_balance_prevQ2  22067 non-null  float64\n",
      " 14  current_month_credit            22067 non-null  float64\n",
      " 15  previous_month_credit           22067 non-null  float64\n",
      " 16  current_month_debit             22067 non-null  float64\n",
      " 17  previous_month_debit            22067 non-null  float64\n",
      " 18  current_month_balance           22067 non-null  float64\n",
      " 19  previous_month_balance          22067 non-null  float64\n",
      " 20  churn                           22067 non-null  int64  \n",
      "dtypes: float64(13), int64(8)\n",
      "memory usage: 3.5 MB\n"
     ]
    }
   ],
   "source": [
    "data.info()"
   ]
  },
  {
   "cell_type": "code",
   "execution_count": 6,
   "id": "a55b8f8c-5cff-4768-84d8-b46c30c10c16",
   "metadata": {},
   "outputs": [],
   "source": [
    "#seprating dependent and independent variables\n",
    "X = data.drop(columns = ['churn','customer_id'])\n",
    "Y = data['churn']"
   ]
  },
  {
   "cell_type": "code",
   "execution_count": 7,
   "id": "133414f0-aa90-4ea9-9eaa-856ea8fd56da",
   "metadata": {},
   "outputs": [],
   "source": [
    "#Scaling the dataset\n",
    "from sklearn.preprocessing import StandardScaler\n",
    "scaler = StandardScaler()\n",
    "scaled_X = scaler.fit_transform(X)"
   ]
  },
  {
   "cell_type": "code",
   "execution_count": 8,
   "id": "4f63e687-d7df-47f5-98c8-ac4f51130deb",
   "metadata": {},
   "outputs": [
    {
     "data": {
      "text/plain": [
       "((17653, 19), (4414, 19), (17653,), (4414,))"
      ]
     },
     "execution_count": 8,
     "metadata": {},
     "output_type": "execute_result"
    }
   ],
   "source": [
    "#splitting the dataset\n",
    "from sklearn.model_selection import train_test_split as tts\n",
    "x_train, x_test, y_train, y_test = tts(scaled_X, Y, train_size = 0.80, stratify = Y)\n",
    "x_train.shape, x_test.shape, y_train.shape, y_test.shape"
   ]
  },
  {
   "cell_type": "markdown",
   "id": "0a30bef3-c621-4ba5-8d47-1e0361a38013",
   "metadata": {},
   "source": [
    "# Model Building, predictions"
   ]
  },
  {
   "cell_type": "code",
   "execution_count": 9,
   "id": "7eaed032-91d5-4a7b-a3de-01a3b38bea09",
   "metadata": {},
   "outputs": [
    {
     "data": {
      "text/plain": [
       "19848    1\n",
       "5753     1\n",
       "10431    0\n",
       "4593     0\n",
       "15473    0\n",
       "        ..\n",
       "21916    0\n",
       "12666    0\n",
       "18351    1\n",
       "4488     0\n",
       "10010    1\n",
       "Name: churn, Length: 17653, dtype: int64"
      ]
     },
     "execution_count": 9,
     "metadata": {},
     "output_type": "execute_result"
    }
   ],
   "source": [
    "y_train"
   ]
  },
  {
   "cell_type": "code",
   "execution_count": 10,
   "id": "91b1d8ab-f4f2-4797-a19b-0441898831f7",
   "metadata": {},
   "outputs": [],
   "source": [
    "from sklearn.tree import DecisionTreeClassifier as DTC\n",
    "classifier = DTC( class_weight = 'balanced')\n",
    "classifier = DTC()"
   ]
  },
  {
   "cell_type": "code",
   "execution_count": 11,
   "id": "f309d844-c525-4013-85bf-b32edd28331f",
   "metadata": {},
   "outputs": [],
   "source": [
    "classifier.fit(x_train, y_train)\n",
    "predicted_values = classifier.predict(x_train)"
   ]
  },
  {
   "cell_type": "code",
   "execution_count": 12,
   "id": "042b3fab-ed9a-4f87-948e-7333b952f6c1",
   "metadata": {},
   "outputs": [
    {
     "data": {
      "text/plain": [
       "array([1, 1, 0, 0, 0, 0, 0, 0, 0, 1, 0, 1, 0, 0, 0, 0, 0, 1, 1, 0, 0, 0,\n",
       "       0, 1, 0, 0, 0, 0, 0, 0], dtype=int64)"
      ]
     },
     "execution_count": 12,
     "metadata": {},
     "output_type": "execute_result"
    }
   ],
   "source": [
    "predicted_values[:30]"
   ]
  },
  {
   "cell_type": "markdown",
   "id": "8c83cec4-4323-467a-93a5-d06d830a10ff",
   "metadata": {},
   "source": [
    "## Evaluation Metrices"
   ]
  },
  {
   "cell_type": "code",
   "execution_count": 13,
   "id": "1c2d2e3b-69b4-4bc3-9e2a-41b933646e95",
   "metadata": {},
   "outputs": [
    {
     "name": "stdout",
     "output_type": "stream",
     "text": [
      "              precision    recall  f1-score   support\n",
      "\n",
      "           0       1.00      1.00      1.00     14234\n",
      "           1       1.00      1.00      1.00      3419\n",
      "\n",
      "    accuracy                           1.00     17653\n",
      "   macro avg       1.00      1.00      1.00     17653\n",
      "weighted avg       1.00      1.00      1.00     17653\n",
      "\n"
     ]
    }
   ],
   "source": [
    "from sklearn.metrics import classification_report\n",
    "print(classification_report(y_train, predicted_values))"
   ]
  },
  {
   "cell_type": "code",
   "execution_count": 14,
   "id": "6c3b7b61-7a57-4b99-b2f0-389fcc4aa723",
   "metadata": {},
   "outputs": [
    {
     "name": "stdout",
     "output_type": "stream",
     "text": [
      "              precision    recall  f1-score   support\n",
      "\n",
      "           0       0.87      0.86      0.87      3559\n",
      "           1       0.44      0.46      0.45       855\n",
      "\n",
      "    accuracy                           0.78      4414\n",
      "   macro avg       0.66      0.66      0.66      4414\n",
      "weighted avg       0.79      0.78      0.79      4414\n",
      "\n"
     ]
    }
   ],
   "source": [
    "predicted_values = classifier.predict(x_test)\n",
    "print(classification_report(y_test, predicted_values))"
   ]
  },
  {
   "cell_type": "markdown",
   "id": "ca29f8fa-02af-408d-8c8d-aa6665bb1503",
   "metadata": {},
   "source": [
    "# Visualising Decision Tree"
   ]
  },
  {
   "cell_type": "code",
   "execution_count": 18,
   "id": "b45e1832-de57-488d-ab1a-a9e514159f5c",
   "metadata": {},
   "outputs": [
    {
     "name": "stdout",
     "output_type": "stream",
     "text": [
      "Requirement already satisfied: graphviz in d:\\program files\\python org\\lib\\site-packages (0.20.3)\n"
     ]
    }
   ],
   "source": [
    "!pip install graphviz"
   ]
  },
  {
   "cell_type": "code",
   "execution_count": 20,
   "id": "b4ec7783-5cd7-475c-bbdc-19d55e88d854",
   "metadata": {},
   "outputs": [],
   "source": [
    "from sklearn.tree import export_graphviz\n",
    "export_graphviz(decision_tree = classifier, out_file = 'tree_viz',\n",
    "                max_depth=None, feature_names = X.columns ,\n",
    "                label = None, impurity = False )"
   ]
  },
  {
   "cell_type": "code",
   "execution_count": null,
   "id": "12e640ea-2ec8-4ee8-8208-aa928f640422",
   "metadata": {},
   "outputs": [],
   "source": [
    "from graphviz import render\n",
    "render(  filepath='tree_viz', format = 'png', engine = 'neato')"
   ]
  },
  {
   "cell_type": "markdown",
   "id": "06e8cf08-5079-45a0-a0e6-7b781c943271",
   "metadata": {},
   "source": [
    "# Hyperparameter Tuning"
   ]
  },
  {
   "cell_type": "code",
   "execution_count": 23,
   "id": "f20aa815-6e30-44c0-b9f8-67637dc5ab8a",
   "metadata": {},
   "outputs": [
    {
     "data": {
      "text/html": [
       "<style>#sk-container-id-1 {color: black;background-color: white;}#sk-container-id-1 pre{padding: 0;}#sk-container-id-1 div.sk-toggleable {background-color: white;}#sk-container-id-1 label.sk-toggleable__label {cursor: pointer;display: block;width: 100%;margin-bottom: 0;padding: 0.3em;box-sizing: border-box;text-align: center;}#sk-container-id-1 label.sk-toggleable__label-arrow:before {content: \"▸\";float: left;margin-right: 0.25em;color: #696969;}#sk-container-id-1 label.sk-toggleable__label-arrow:hover:before {color: black;}#sk-container-id-1 div.sk-estimator:hover label.sk-toggleable__label-arrow:before {color: black;}#sk-container-id-1 div.sk-toggleable__content {max-height: 0;max-width: 0;overflow: hidden;text-align: left;background-color: #f0f8ff;}#sk-container-id-1 div.sk-toggleable__content pre {margin: 0.2em;color: black;border-radius: 0.25em;background-color: #f0f8ff;}#sk-container-id-1 input.sk-toggleable__control:checked~div.sk-toggleable__content {max-height: 200px;max-width: 100%;overflow: auto;}#sk-container-id-1 input.sk-toggleable__control:checked~label.sk-toggleable__label-arrow:before {content: \"▾\";}#sk-container-id-1 div.sk-estimator input.sk-toggleable__control:checked~label.sk-toggleable__label {background-color: #d4ebff;}#sk-container-id-1 div.sk-label input.sk-toggleable__control:checked~label.sk-toggleable__label {background-color: #d4ebff;}#sk-container-id-1 input.sk-hidden--visually {border: 0;clip: rect(1px 1px 1px 1px);clip: rect(1px, 1px, 1px, 1px);height: 1px;margin: -1px;overflow: hidden;padding: 0;position: absolute;width: 1px;}#sk-container-id-1 div.sk-estimator {font-family: monospace;background-color: #f0f8ff;border: 1px dotted black;border-radius: 0.25em;box-sizing: border-box;margin-bottom: 0.5em;}#sk-container-id-1 div.sk-estimator:hover {background-color: #d4ebff;}#sk-container-id-1 div.sk-parallel-item::after {content: \"\";width: 100%;border-bottom: 1px solid gray;flex-grow: 1;}#sk-container-id-1 div.sk-label:hover label.sk-toggleable__label {background-color: #d4ebff;}#sk-container-id-1 div.sk-serial::before {content: \"\";position: absolute;border-left: 1px solid gray;box-sizing: border-box;top: 0;bottom: 0;left: 50%;z-index: 0;}#sk-container-id-1 div.sk-serial {display: flex;flex-direction: column;align-items: center;background-color: white;padding-right: 0.2em;padding-left: 0.2em;position: relative;}#sk-container-id-1 div.sk-item {position: relative;z-index: 1;}#sk-container-id-1 div.sk-parallel {display: flex;align-items: stretch;justify-content: center;background-color: white;position: relative;}#sk-container-id-1 div.sk-item::before, #sk-container-id-1 div.sk-parallel-item::before {content: \"\";position: absolute;border-left: 1px solid gray;box-sizing: border-box;top: 0;bottom: 0;left: 50%;z-index: -1;}#sk-container-id-1 div.sk-parallel-item {display: flex;flex-direction: column;z-index: 1;position: relative;background-color: white;}#sk-container-id-1 div.sk-parallel-item:first-child::after {align-self: flex-end;width: 50%;}#sk-container-id-1 div.sk-parallel-item:last-child::after {align-self: flex-start;width: 50%;}#sk-container-id-1 div.sk-parallel-item:only-child::after {width: 0;}#sk-container-id-1 div.sk-dashed-wrapped {border: 1px dashed gray;margin: 0 0.4em 0.5em 0.4em;box-sizing: border-box;padding-bottom: 0.4em;background-color: white;}#sk-container-id-1 div.sk-label label {font-family: monospace;font-weight: bold;display: inline-block;line-height: 1.2em;}#sk-container-id-1 div.sk-label-container {text-align: center;}#sk-container-id-1 div.sk-container {/* jupyter's `normalize.less` sets `[hidden] { display: none; }` but bootstrap.min.css set `[hidden] { display: none !important; }` so we also need the `!important` here to be able to override the default hidden behavior on the sphinx rendered scikit-learn.org. See: https://github.com/scikit-learn/scikit-learn/issues/21755 */display: inline-block !important;position: relative;}#sk-container-id-1 div.sk-text-repr-fallback {display: none;}</style><div id=\"sk-container-id-1\" class=\"sk-top-container\"><div class=\"sk-text-repr-fallback\"><pre>DecisionTreeClassifier()</pre><b>In a Jupyter environment, please rerun this cell to show the HTML representation or trust the notebook. <br />On GitHub, the HTML representation is unable to render, please try loading this page with nbviewer.org.</b></div><div class=\"sk-container\" hidden><div class=\"sk-item\"><div class=\"sk-estimator sk-toggleable\"><input class=\"sk-toggleable__control sk-hidden--visually\" id=\"sk-estimator-id-1\" type=\"checkbox\" checked><label for=\"sk-estimator-id-1\" class=\"sk-toggleable__label sk-toggleable__label-arrow\">DecisionTreeClassifier</label><div class=\"sk-toggleable__content\"><pre>DecisionTreeClassifier()</pre></div></div></div></div></div>"
      ],
      "text/plain": [
       "DecisionTreeClassifier()"
      ]
     },
     "execution_count": 23,
     "metadata": {},
     "output_type": "execute_result"
    }
   ],
   "source": [
    "classifier = DTC()\n",
    "classifier.fit(x_train, y_train)"
   ]
  },
  {
   "cell_type": "markdown",
   "id": "fed01e7f-adbd-4bb8-98b9-8245188cc317",
   "metadata": {},
   "source": [
    "# max_depth"
   ]
  },
  {
   "cell_type": "code",
   "execution_count": 24,
   "id": "9547cd60-732d-45c1-8a03-44fead5e71e0",
   "metadata": {},
   "outputs": [],
   "source": [
    "from sklearn.metrics import f1_score\n",
    "def calc_score(model, x1, y1, x2, y2):\n",
    "\n",
    "  model.fit(x1,y1)\n",
    "\n",
    "  predict = model.predict(x1)\n",
    "  f1 = f1_score(y1, predict)\n",
    "\n",
    "  predict = model.predict(x2)\n",
    "  f2 = f1_score(y2, predict)\n",
    "\n",
    "  return f1, f2"
   ]
  },
  {
   "cell_type": "code",
   "execution_count": 25,
   "id": "51fb0a45-4509-4bc1-8256-588fdbc8a485",
   "metadata": {},
   "outputs": [],
   "source": [
    "def effect(train_score, test_score, x_axis, title):\n",
    "  plt.figure(figsize = (5,5), dpi = 120)\n",
    "  plt.plot(x_axis, train_score, color = 'red', label = 'train_Score')\n",
    "  plt.plot(x_axis, test_score, color = 'blue', label = 'test_Score')\n",
    "  plt.title(title)\n",
    "  plt.legend()\n",
    "  plt.xlabel(\"parameter_value\")\n",
    "  plt.ylabel(\"f1 score\")\n",
    "  plt.show()"
   ]
  },
  {
   "cell_type": "code",
   "execution_count": 26,
   "id": "c54869bf-a49c-4269-aa83-6429802064fa",
   "metadata": {},
   "outputs": [],
   "source": [
    "maxdepth = [i for i in range(1,50)]\n",
    "train = []\n",
    "test = []\n",
    "\n",
    "for i in maxdepth:  \n",
    "  model = DTC(class_weight = 'balanced', max_depth = i, random_state = 42)\n",
    "  f1, f2 = calc_score(model, x_train, y_train, x_test, y_test)\n",
    "  train.append(f1)\n",
    "  test.append(f2)"
   ]
  },
  {
   "cell_type": "code",
   "execution_count": 28,
   "id": "d1741acb-1c82-461b-9ed1-bf5da2512cda",
   "metadata": {},
   "outputs": [
    {
     "data": {
      "image/png": "[encoded data removed]",
      "text/plain": [
       "<Figure size 600x600 with 1 Axes>"
      ]
     },
     "metadata": {},
     "output_type": "display_data"
    }
   ],
   "source": [
    "effect( train, test, range(1,50) , 'max_depth')"
   ]
  },
  {
   "cell_type": "markdown",
   "id": "e4e98a64-c06b-4661-bcd0-cf93efcd3520",
   "metadata": {},
   "source": [
    "# min_samples_split"
   ]
  },
  {
   "cell_type": "code",
   "execution_count": 29,
   "id": "5b453f14-464b-43a8-9a86-29e80a39ec7d",
   "metadata": {},
   "outputs": [],
   "source": [
    "min_samples = [i for i in range(2,5000, 25)]\n",
    "train = []\n",
    "test = []\n",
    "\n",
    "for i in min_samples:  \n",
    "  model = DTC(class_weight = 'balanced', min_samples_split = i, random_state = 42)\n",
    "  f1, f2 = calc_score(model, x_train, y_train, x_test, y_test)\n",
    "  train.append(f1)\n",
    "  test.append(f2)"
   ]
  },
  {
   "cell_type": "code",
   "execution_count": 30,
   "id": "f8b7e8e2-f11b-497a-8bd6-27b7fcf8dad5",
   "metadata": {},
   "outputs": [
    {
     "data": {
      "image/png": "[encoded data removed]",
      "text/plain": [
       "<Figure size 600x600 with 1 Axes>"
      ]
     },
     "metadata": {},
     "output_type": "display_data"
    }
   ],
   "source": [
    "effect( train, test, range(2,5000, 25) , 'min_samples_split')"
   ]
  },
  {
   "cell_type": "markdown",
   "id": "6ec5a2ad-0132-48aa-b6e7-c9ba6f9df434",
   "metadata": {},
   "source": [
    "# max_leaf_nodes"
   ]
  },
  {
   "cell_type": "code",
   "execution_count": null,
   "id": "eb9160ff-e5bf-4942-b287-8f4be26e43e8",
   "metadata": {},
   "outputs": [],
   "source": [
    "maxleafnodes = [i for i in range(2,200,10)]\n",
    "train = []\n",
    "test = []\n",
    "\n",
    "for i in maxleafnodes:  \n",
    "  model = DTC(class_weight = 'balanced', max_leaf_nodes = i, random_state = 42)\n",
    "  f1, f2 = calc_score(model, x_train, y_train, x_test, y_test)\n",
    "  train.append(f1)\n",
    "  test.append(f2)"
   ]
  },
  {
   "cell_type": "code",
   "execution_count": null,
   "id": "1d371ac7-55e1-40e8-a162-cec3805294f7",
   "metadata": {},
   "outputs": [],
   "source": [
    "effect( train, test, range(2,200,10) , 'max_leaf_nodes')"
   ]
  },
  {
   "cell_type": "markdown",
   "id": "be0c0f28-bfec-479b-9ef2-df61f2355d70",
   "metadata": {},
   "source": [
    "# min_samples_leaf"
   ]
  },
  {
   "cell_type": "code",
   "execution_count": null,
   "id": "e4a62d25-a2d5-491b-ba4b-570d76bea09f",
   "metadata": {},
   "outputs": [],
   "source": [
    "minsamplesleaf = [i for i in range(2,4000,25)]\n",
    "train = []\n",
    "test = []\n",
    "\n",
    "for i in minsamplesleaf:  \n",
    "  model = DTC(class_weight = 'balanced', min_samples_leaf = i, random_state = 42)\n",
    "  f1, f2 = calc_score(model, x_train, y_train, x_test, y_test)\n",
    "  train.append(f1)\n",
    "  test.append(f2)"
   ]
  },
  {
   "cell_type": "code",
   "execution_count": null,
   "id": "68de160d-877e-481d-ab18-3a77dfa11607",
   "metadata": {},
   "outputs": [],
   "source": [
    "effect( train, test, range(2,4000,25) , 'min_samples_leaf')"
   ]
  },
  {
   "cell_type": "code",
   "execution_count": null,
   "id": "2f9f9db0-1fae-4e0f-81fc-18f63fba2e13",
   "metadata": {},
   "outputs": [],
   "source": []
  }
 ],
 "metadata": {
  "kernelspec": {
   "display_name": "Python 3 (ipykernel)",
   "language": "python",
   "name": "python3"
  },
  "language_info": {
   "codemirror_mode": {
    "name": "ipython",
    "version": 3
   },
   "file_extension": ".py",
   "mimetype": "text/x-python",
   "name": "python",
   "nbconvert_exporter": "python",
   "pygments_lexer": "ipython3",
   "version": "3.11.7"
  }
 },
 "nbformat": 4,
 "nbformat_minor": 5
}
