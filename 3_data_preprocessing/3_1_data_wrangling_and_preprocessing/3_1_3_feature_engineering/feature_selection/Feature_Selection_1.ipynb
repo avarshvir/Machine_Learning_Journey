{
 "cells": [
  {
   "cell_type": "markdown",
   "id": "7c4d6ac6-f822-4378-a1b7-23f10aa813fa",
   "metadata": {},
   "source": [
    "# feature Scaling"
   ]
  },
  {
   "cell_type": "code",
   "execution_count": 16,
   "id": "2b22abaa-26e5-4030-99ec-6c7c65d98161",
   "metadata": {},
   "outputs": [],
   "source": [
    "from sklearn.feature_selection import RFE  # recursive feature elimination\n",
    "from sklearn.linear_model import LinearRegression"
   ]
  },
  {
   "cell_type": "code",
   "execution_count": 2,
   "id": "1af26b02-9ec9-4ef6-91de-8079228f3e3c",
   "metadata": {},
   "outputs": [],
   "source": [
    "import pandas as pd\n",
    "import numpy as np"
   ]
  },
  {
   "cell_type": "code",
   "execution_count": 3,
   "id": "73c47543-43de-45ae-a89e-7e81f39dfdb0",
   "metadata": {},
   "outputs": [],
   "source": [
    "data = {\n",
    "    'Age' : [25,30,35,40,45],\n",
    "    'Income' : [50000,60000,75000,90000,80000],\n",
    "    'Education' : ['High School', 'Bachelor', 'Master', 'ph.D.', 'Bachelor'],\n",
    "    'City' : ['New York','San Francisco', 'Chicago', 'Los Angeles', 'Miami'],\n",
    "    'Gender' : ['Male', 'Female', 'Male', 'Female', 'Male'],\n",
    "    'Productivity' : [5,4,3,2,4]\n",
    "}"
   ]
  },
  {
   "cell_type": "code",
   "execution_count": 4,
   "id": "446db6e3-5390-4546-a332-8bfb70ceffa0",
   "metadata": {},
   "outputs": [],
   "source": [
    "df = pd.DataFrame(data)"
   ]
  },
  {
   "cell_type": "code",
   "execution_count": 5,
   "id": "9db21b7d-cf2d-464d-82cc-ce5ead79275d",
   "metadata": {},
   "outputs": [
    {
     "data": {
      "text/html": [
       "<div>\n",
       "<style scoped>\n",
       "    .dataframe tbody tr th:only-of-type {\n",
       "        vertical-align: middle;\n",
       "    }\n",
       "\n",
       "    .dataframe tbody tr th {\n",
       "        vertical-align: top;\n",
       "    }\n",
       "\n",
       "    .dataframe thead th {\n",
       "        text-align: right;\n",
       "    }\n",
       "</style>\n",
       "<table border=\"1\" class=\"dataframe\">\n",
       "  <thead>\n",
       "    <tr style=\"text-align: right;\">\n",
       "      <th></th>\n",
       "      <th>Age</th>\n",
       "      <th>Income</th>\n",
       "      <th>Education</th>\n",
       "      <th>City</th>\n",
       "      <th>Gender</th>\n",
       "      <th>Productivity</th>\n",
       "    </tr>\n",
       "  </thead>\n",
       "  <tbody>\n",
       "    <tr>\n",
       "      <th>0</th>\n",
       "      <td>25</td>\n",
       "      <td>50000</td>\n",
       "      <td>High School</td>\n",
       "      <td>New York</td>\n",
       "      <td>Male</td>\n",
       "      <td>5</td>\n",
       "    </tr>\n",
       "    <tr>\n",
       "      <th>1</th>\n",
       "      <td>30</td>\n",
       "      <td>60000</td>\n",
       "      <td>Bachelor</td>\n",
       "      <td>San Francisco</td>\n",
       "      <td>Female</td>\n",
       "      <td>4</td>\n",
       "    </tr>\n",
       "    <tr>\n",
       "      <th>2</th>\n",
       "      <td>35</td>\n",
       "      <td>75000</td>\n",
       "      <td>Master</td>\n",
       "      <td>Chicago</td>\n",
       "      <td>Male</td>\n",
       "      <td>3</td>\n",
       "    </tr>\n",
       "    <tr>\n",
       "      <th>3</th>\n",
       "      <td>40</td>\n",
       "      <td>90000</td>\n",
       "      <td>ph.D.</td>\n",
       "      <td>Los Angeles</td>\n",
       "      <td>Female</td>\n",
       "      <td>2</td>\n",
       "    </tr>\n",
       "    <tr>\n",
       "      <th>4</th>\n",
       "      <td>45</td>\n",
       "      <td>80000</td>\n",
       "      <td>Bachelor</td>\n",
       "      <td>Miami</td>\n",
       "      <td>Male</td>\n",
       "      <td>4</td>\n",
       "    </tr>\n",
       "  </tbody>\n",
       "</table>\n",
       "</div>"
      ],
      "text/plain": [
       "   Age  Income    Education           City  Gender  Productivity\n",
       "0   25   50000  High School       New York    Male             5\n",
       "1   30   60000     Bachelor  San Francisco  Female             4\n",
       "2   35   75000       Master        Chicago    Male             3\n",
       "3   40   90000        ph.D.    Los Angeles  Female             2\n",
       "4   45   80000     Bachelor          Miami    Male             4"
      ]
     },
     "execution_count": 5,
     "metadata": {},
     "output_type": "execute_result"
    }
   ],
   "source": [
    "df"
   ]
  },
  {
   "cell_type": "code",
   "execution_count": 7,
   "id": "2dea4a87-9597-4740-803e-2565877eeeef",
   "metadata": {},
   "outputs": [],
   "source": [
    "df_encoded = pd.get_dummies(df, columns = ['Education', 'City', 'Gender'])"
   ]
  },
  {
   "cell_type": "code",
   "execution_count": 8,
   "id": "f5bd55a3-7cb3-43f6-b61d-d33b04195222",
   "metadata": {},
   "outputs": [
    {
     "data": {
      "text/plain": [
       "array([[-1.41421356, -1.47029409],\n",
       "       [-0.70710678, -0.77015405],\n",
       "       [ 0.        ,  0.28005602],\n",
       "       [ 0.70710678,  1.33026608],\n",
       "       [ 1.41421356,  0.63012604]])"
      ]
     },
     "execution_count": 8,
     "metadata": {},
     "output_type": "execute_result"
    }
   ],
   "source": [
    "# feature scaling\n",
    "from sklearn.preprocessing import StandardScaler\n",
    "scaler = StandardScaler()\n",
    "df_encoded[['Age','Income']]\n",
    "scaler.fit_transform(df_encoded[['Age','Income']])"
   ]
  },
  {
   "cell_type": "markdown",
   "id": "a8a943e2-3786-436e-ac94-c9136b790374",
   "metadata": {},
   "source": [
    "# feature selection"
   ]
  },
  {
   "cell_type": "code",
   "execution_count": 12,
   "id": "124b8789-1e30-436e-b34b-588c68b00b99",
   "metadata": {},
   "outputs": [],
   "source": [
    "X = df_encoded.drop('Productivity',axis = 1)\n",
    "y = df_encoded['Productivity']"
   ]
  },
  {
   "cell_type": "code",
   "execution_count": 13,
   "id": "7a963c17-2778-4cfe-a7ed-1f23133886ed",
   "metadata": {},
   "outputs": [],
   "source": [
    "model = LinearRegression()"
   ]
  },
  {
   "cell_type": "code",
   "execution_count": 14,
   "id": "b4b45c3e-94b6-494d-8f14-705599e2233e",
   "metadata": {},
   "outputs": [],
   "source": [
    "rfe = RFE(model, n_features_to_select = 3)\n",
    "fit = rfe.fit(X,y)"
   ]
  },
  {
   "cell_type": "code",
   "execution_count": 17,
   "id": "2ec2c8ab-c296-440d-95a9-57c7b76190b3",
   "metadata": {},
   "outputs": [
    {
     "name": "stdout",
     "output_type": "stream",
     "text": [
      "Selected Features: Index(['Education_Bachelor', 'Education_High School', 'City_Los Angeles'], dtype='object')\n"
     ]
    }
   ],
   "source": [
    "selected_features = X.columns[fit.support_]\n",
    "print('Selected Features:', selected_features)"
   ]
  },
  {
   "cell_type": "code",
   "execution_count": 18,
   "id": "4d2e9396-ec45-49b4-98b4-a24c05e9ba0d",
   "metadata": {},
   "outputs": [
    {
     "data": {
      "text/html": [
       "<div>\n",
       "<style scoped>\n",
       "    .dataframe tbody tr th:only-of-type {\n",
       "        vertical-align: middle;\n",
       "    }\n",
       "\n",
       "    .dataframe tbody tr th {\n",
       "        vertical-align: top;\n",
       "    }\n",
       "\n",
       "    .dataframe thead th {\n",
       "        text-align: right;\n",
       "    }\n",
       "</style>\n",
       "<table border=\"1\" class=\"dataframe\">\n",
       "  <thead>\n",
       "    <tr style=\"text-align: right;\">\n",
       "      <th></th>\n",
       "      <th>Age</th>\n",
       "      <th>Income</th>\n",
       "      <th>Productivity</th>\n",
       "      <th>Education_Bachelor</th>\n",
       "      <th>Education_High School</th>\n",
       "      <th>Education_Master</th>\n",
       "      <th>Education_ph.D.</th>\n",
       "      <th>City_Chicago</th>\n",
       "      <th>City_Los Angeles</th>\n",
       "      <th>City_Miami</th>\n",
       "      <th>City_New York</th>\n",
       "      <th>City_San Francisco</th>\n",
       "      <th>Gender_Female</th>\n",
       "      <th>Gender_Male</th>\n",
       "    </tr>\n",
       "  </thead>\n",
       "  <tbody>\n",
       "    <tr>\n",
       "      <th>0</th>\n",
       "      <td>25</td>\n",
       "      <td>50000</td>\n",
       "      <td>5</td>\n",
       "      <td>False</td>\n",
       "      <td>True</td>\n",
       "      <td>False</td>\n",
       "      <td>False</td>\n",
       "      <td>False</td>\n",
       "      <td>False</td>\n",
       "      <td>False</td>\n",
       "      <td>True</td>\n",
       "      <td>False</td>\n",
       "      <td>False</td>\n",
       "      <td>True</td>\n",
       "    </tr>\n",
       "    <tr>\n",
       "      <th>1</th>\n",
       "      <td>30</td>\n",
       "      <td>60000</td>\n",
       "      <td>4</td>\n",
       "      <td>True</td>\n",
       "      <td>False</td>\n",
       "      <td>False</td>\n",
       "      <td>False</td>\n",
       "      <td>False</td>\n",
       "      <td>False</td>\n",
       "      <td>False</td>\n",
       "      <td>False</td>\n",
       "      <td>True</td>\n",
       "      <td>True</td>\n",
       "      <td>False</td>\n",
       "    </tr>\n",
       "    <tr>\n",
       "      <th>2</th>\n",
       "      <td>35</td>\n",
       "      <td>75000</td>\n",
       "      <td>3</td>\n",
       "      <td>False</td>\n",
       "      <td>False</td>\n",
       "      <td>True</td>\n",
       "      <td>False</td>\n",
       "      <td>True</td>\n",
       "      <td>False</td>\n",
       "      <td>False</td>\n",
       "      <td>False</td>\n",
       "      <td>False</td>\n",
       "      <td>False</td>\n",
       "      <td>True</td>\n",
       "    </tr>\n",
       "    <tr>\n",
       "      <th>3</th>\n",
       "      <td>40</td>\n",
       "      <td>90000</td>\n",
       "      <td>2</td>\n",
       "      <td>False</td>\n",
       "      <td>False</td>\n",
       "      <td>False</td>\n",
       "      <td>True</td>\n",
       "      <td>False</td>\n",
       "      <td>True</td>\n",
       "      <td>False</td>\n",
       "      <td>False</td>\n",
       "      <td>False</td>\n",
       "      <td>True</td>\n",
       "      <td>False</td>\n",
       "    </tr>\n",
       "    <tr>\n",
       "      <th>4</th>\n",
       "      <td>45</td>\n",
       "      <td>80000</td>\n",
       "      <td>4</td>\n",
       "      <td>True</td>\n",
       "      <td>False</td>\n",
       "      <td>False</td>\n",
       "      <td>False</td>\n",
       "      <td>False</td>\n",
       "      <td>False</td>\n",
       "      <td>True</td>\n",
       "      <td>False</td>\n",
       "      <td>False</td>\n",
       "      <td>False</td>\n",
       "      <td>True</td>\n",
       "    </tr>\n",
       "  </tbody>\n",
       "</table>\n",
       "</div>"
      ],
      "text/plain": [
       "   Age  Income  Productivity  Education_Bachelor  Education_High School  \\\n",
       "0   25   50000             5               False                   True   \n",
       "1   30   60000             4                True                  False   \n",
       "2   35   75000             3               False                  False   \n",
       "3   40   90000             2               False                  False   \n",
       "4   45   80000             4                True                  False   \n",
       "\n",
       "   Education_Master  Education_ph.D.  City_Chicago  City_Los Angeles  \\\n",
       "0             False            False         False             False   \n",
       "1             False            False         False             False   \n",
       "2              True            False          True             False   \n",
       "3             False             True         False              True   \n",
       "4             False            False         False             False   \n",
       "\n",
       "   City_Miami  City_New York  City_San Francisco  Gender_Female  Gender_Male  \n",
       "0       False           True               False          False         True  \n",
       "1       False          False                True           True        False  \n",
       "2       False          False               False          False         True  \n",
       "3       False          False               False           True        False  \n",
       "4        True          False               False          False         True  "
      ]
     },
     "execution_count": 18,
     "metadata": {},
     "output_type": "execute_result"
    }
   ],
   "source": [
    "df_encoded"
   ]
  },
  {
   "cell_type": "code",
   "execution_count": null,
   "id": "16fd81e2-cb8a-4420-a565-e657f18cf7fe",
   "metadata": {},
   "outputs": [],
   "source": []
  }
 ],
 "metadata": {
  "kernelspec": {
   "display_name": "Python 3 (ipykernel)",
   "language": "python",
   "name": "python3"
  },
  "language_info": {
   "codemirror_mode": {
    "name": "ipython",
    "version": 3
   },
   "file_extension": ".py",
   "mimetype": "text/x-python",
   "name": "python",
   "nbconvert_exporter": "python",
   "pygments_lexer": "ipython3",
   "version": "3.11.7"
  }
 },
 "nbformat": 4,
 "nbformat_minor": 5
}
